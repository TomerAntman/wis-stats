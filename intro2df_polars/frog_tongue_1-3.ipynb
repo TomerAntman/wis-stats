{
 "cells": [
  {
   "cell_type": "markdown",
   "id": "23df05e6",
   "metadata": {},
   "source": [
    "# Mastering selection and filtering of data frames"
   ]
  },
  {
   "cell_type": "markdown",
   "id": "3b5af7b1",
   "metadata": {},
   "source": [
    "We will work with a data set from [Kleinteich and Gorb, *Sci. Rep.*, **4**, 5355, 2014](https://doi.org/10.1038/srep05225), and was [featured in the New York Times](http://www.nytimes.com/2014/08/25/science/a-frog-thats-a-living-breathing-pac-man.html). They measured several properties about the tongue strikes of horned frogs. Let's take a look at the data set, which is in the file `../data/frog_tongue_adhesion.csv`."
   ]
  },
  {
   "cell_type": "code",
   "execution_count": 2,
   "id": "3d4d50bf",
   "metadata": {},
   "outputs": [
    {
     "name": "stdout",
     "output_type": "stream",
     "text": [
      "# These data are from the paper,\n",
      "#   Kleinteich and Gorb, Sci. Rep., 4, 5225, 2014.\n",
      "# It was featured in the New York Times.\n",
      "#    http://www.nytimes.com/2014/08/25/science/a-frog-thats-a-living-breathing-pac-man.html\n",
      "#\n",
      "# The authors included the data in their supplemental information.\n",
      "#\n",
      "# Importantly, the ID refers to the identifites of the frogs they tested.\n",
      "#   I:   adult, 63 mm snout-vent-length (SVL) and 63.1 g body weight,\n",
      "#        Ceratophrys cranwelli crossed with Ceratophrys cornuta\n",
      "#   II:  adult, 70 mm SVL and 72.7 g body weight,\n",
      "#        Ceratophrys cranwelli crossed with Ceratophrys cornuta\n",
      "#   III: juvenile, 28 mm SVL and 12.7 g body weight, Ceratophrys cranwelli\n",
      "#   IV:  juvenile, 31 mm SVL and 12.7 g body weight, Ceratophrys cranwelli\n",
      "date,ID,trial number,impact force (mN),impact time (ms),impact force / body weight,adhesive force (mN),time frog pulls on target (ms),adhesive force / body weight,adhesive impulse (N-s),total contact area (mm2),contact area without mucus (mm2),contact area with mucus / contact area without mucus,contact pressure (Pa),adhesive strength (Pa)\n",
      "2013_02_26,I,3,1205,46,1.95,-785,884,1.27,-0.290,387,70,0.82,3117,-2030\n",
      "2013_02_26,I,4,2527,44,4.08,-983,248,1.59,-0.181,101,94,0.07,24923,-9695\n",
      "2013_03_01,I,1,1745,34,2.82,-850,211,1.37,-0.157,83,79,0.05,21020,-10239\n",
      "2013_03_01,I,2,1556,41,2.51,-455,1025,0.74,-0.170,330,158,0.52,4718,-1381\n",
      "2013_03_01,I,3,493,36,0.80,-974,499,1.57,-0.423,245,216,0.12,2012,-3975\n"
     ]
    }
   ],
   "source": [
    "data_path = '../data/'\n",
    "!head -20 ../data/frog_tongue_adhesion.csv"
   ]
  },
  {
   "cell_type": "markdown",
   "id": "43583821",
   "metadata": {},
   "source": [
    "## Tasks\n",
    "The first lines all begin with `#` signs, signifying that they are comments and not data. They do give important information, though, such as the meaning of the ID data. The ID refers to which specific frog was tested.\n",
    "\n",
    "Immediately after the comments, we have a row of comma-separated headers. This row sets the number of columns in this data set and labels the meaning of the columns. So, we see that the first column is the date of the experiment, the second column is the ID of the frog, the third is the trial number, and so on.\n",
    "\n",
    "After this row, each row represents a single experiment where the frog struck the target. So, these data are already in tidy format. \n",
    "\n",
    "**a)** Load in the data set into a data frame. Be sure to use the appropriate value for the `comment_prefix` keyword argument of `pl.read_csv()`.\n",
    "\n",
    "**b)** Extract the impact time of all impacts that had an adhesive strength of magnitude greater than 2000 Pa. *Note*: The data in the `'adhesive strength (Pa)'` column is all negative. This is because the adhesive force is defined to be negative in the measurement. Without changing the data in the data frame, how can you check that the magnitude (the absolute value) is greater than 2000?\n",
    "\n",
    "**c)** Extract the impact force and adhesive force for all of Frog II's strikes.\n",
    "\n",
    "**d)** Extract the adhesive force and the time the frog pulls on the target for juvenile frogs (Frogs III and IV). *Hint*: We saw the `&` operator for Boolean indexing across more than one column. The `|` operator signifies OR, and works analogously. For technical reasons that we can discuss if you like, the Python operators `and` and `or` will **not** work for Boolean indexing of data frames. You could also approach this using the `is_in()` method of a Polars `Expression`."
   ]
  },
  {
   "cell_type": "code",
   "execution_count": 3,
   "id": "5042286b",
   "metadata": {},
   "outputs": [
    {
     "data": {
      "text/html": [
       "<div><style>\n",
       ".dataframe > thead > tr,\n",
       ".dataframe > tbody > tr {\n",
       "  text-align: right;\n",
       "  white-space: pre-wrap;\n",
       "}\n",
       "</style>\n",
       "<small>shape: (5, 15)</small><table border=\"1\" class=\"dataframe\"><thead><tr><th>date</th><th>ID</th><th>trial number</th><th>impact force (mN)</th><th>impact time (ms)</th><th>impact force / body weight</th><th>adhesive force (mN)</th><th>time frog pulls on target (ms)</th><th>adhesive force / body weight</th><th>adhesive impulse (N-s)</th><th>total contact area (mm2)</th><th>contact area without mucus (mm2)</th><th>contact area with mucus / contact area without mucus</th><th>contact pressure (Pa)</th><th>adhesive strength (Pa)</th></tr><tr><td>str</td><td>str</td><td>i64</td><td>i64</td><td>i64</td><td>f64</td><td>i64</td><td>i64</td><td>f64</td><td>f64</td><td>i64</td><td>i64</td><td>f64</td><td>i64</td><td>i64</td></tr></thead><tbody><tr><td>&quot;2013_02_26&quot;</td><td>&quot;I&quot;</td><td>3</td><td>1205</td><td>46</td><td>1.95</td><td>-785</td><td>884</td><td>1.27</td><td>-0.29</td><td>387</td><td>70</td><td>0.82</td><td>3117</td><td>-2030</td></tr><tr><td>&quot;2013_02_26&quot;</td><td>&quot;I&quot;</td><td>4</td><td>2527</td><td>44</td><td>4.08</td><td>-983</td><td>248</td><td>1.59</td><td>-0.181</td><td>101</td><td>94</td><td>0.07</td><td>24923</td><td>-9695</td></tr><tr><td>&quot;2013_03_01&quot;</td><td>&quot;I&quot;</td><td>1</td><td>1745</td><td>34</td><td>2.82</td><td>-850</td><td>211</td><td>1.37</td><td>-0.157</td><td>83</td><td>79</td><td>0.05</td><td>21020</td><td>-10239</td></tr><tr><td>&quot;2013_03_01&quot;</td><td>&quot;I&quot;</td><td>2</td><td>1556</td><td>41</td><td>2.51</td><td>-455</td><td>1025</td><td>0.74</td><td>-0.17</td><td>330</td><td>158</td><td>0.52</td><td>4718</td><td>-1381</td></tr><tr><td>&quot;2013_03_01&quot;</td><td>&quot;I&quot;</td><td>3</td><td>493</td><td>36</td><td>0.8</td><td>-974</td><td>499</td><td>1.57</td><td>-0.423</td><td>245</td><td>216</td><td>0.12</td><td>2012</td><td>-3975</td></tr></tbody></table></div>"
      ],
      "text/plain": [
       "shape: (5, 15)\n",
       "┌─────────────┬─────┬────────┬─────────────┬───┬────────────┬────────────┬────────────┬────────────┐\n",
       "│ date        ┆ ID  ┆ trial  ┆ impact      ┆ … ┆ contact    ┆ contact    ┆ contact    ┆ adhesive   │\n",
       "│ ---         ┆ --- ┆ number ┆ force (mN)  ┆   ┆ area       ┆ area with  ┆ pressure   ┆ strength   │\n",
       "│ str         ┆ str ┆ ---    ┆ ---         ┆   ┆ without    ┆ mucus /    ┆ (Pa)       ┆ (Pa)       │\n",
       "│             ┆     ┆ i64    ┆ i64         ┆   ┆ mucus (mm… ┆ cont…      ┆ ---        ┆ ---        │\n",
       "│             ┆     ┆        ┆             ┆   ┆ ---        ┆ ---        ┆ i64        ┆ i64        │\n",
       "│             ┆     ┆        ┆             ┆   ┆ i64        ┆ f64        ┆            ┆            │\n",
       "╞═════════════╪═════╪════════╪═════════════╪═══╪════════════╪════════════╪════════════╪════════════╡\n",
       "│ 2013_02_26  ┆ I   ┆ 3      ┆ 1205        ┆ … ┆ 70         ┆ 0.82       ┆ 3117       ┆ -2030      │\n",
       "│ 2013_02_26  ┆ I   ┆ 4      ┆ 2527        ┆ … ┆ 94         ┆ 0.07       ┆ 24923      ┆ -9695      │\n",
       "│ 2013_03_01  ┆ I   ┆ 1      ┆ 1745        ┆ … ┆ 79         ┆ 0.05       ┆ 21020      ┆ -10239     │\n",
       "│ 2013_03_01  ┆ I   ┆ 2      ┆ 1556        ┆ … ┆ 158        ┆ 0.52       ┆ 4718       ┆ -1381      │\n",
       "│ 2013_03_01  ┆ I   ┆ 3      ┆ 493         ┆ … ┆ 216        ┆ 0.12       ┆ 2012       ┆ -3975      │\n",
       "└─────────────┴─────┴────────┴─────────────┴───┴────────────┴────────────┴────────────┴────────────┘"
      ]
     },
     "execution_count": 3,
     "metadata": {},
     "output_type": "execute_result"
    }
   ],
   "source": [
    "# a) Load in the data set into a data frame. \n",
    "# Be sure to use the appropriate value for the `comment_prefix` keyword argument of `pl.read_csv()`.\n",
    "import polars as pl\n",
    "import os\n",
    "fname = os.path.join(data_path, \"frog_tongue_adhesion.csv\")\n",
    "df = pl.read_csv(fname, comment_prefix=\"#\")\n",
    "df.head()"
   ]
  },
  {
   "cell_type": "code",
   "execution_count": 4,
   "id": "ffa516b6",
   "metadata": {},
   "outputs": [
    {
     "data": {
      "text/html": [
       "<div><style>\n",
       ".dataframe > thead > tr,\n",
       ".dataframe > tbody > tr {\n",
       "  text-align: right;\n",
       "  white-space: pre-wrap;\n",
       "}\n",
       "</style>\n",
       "<small>shape: (48,)</small><table border=\"1\" class=\"dataframe\"><thead><tr><th>impact time (ms)</th></tr><tr><td>i64</td></tr></thead><tbody><tr><td>46</td></tr><tr><td>44</td></tr><tr><td>34</td></tr><tr><td>36</td></tr><tr><td>46</td></tr><tr><td>&hellip;</td></tr><tr><td>6</td></tr><tr><td>31</td></tr><tr><td>34</td></tr><tr><td>38</td></tr><tr><td>33</td></tr></tbody></table></div>"
      ],
      "text/plain": [
       "shape: (48,)\n",
       "Series: 'impact time (ms)' [i64]\n",
       "[\n",
       "\t46\n",
       "\t44\n",
       "\t34\n",
       "\t36\n",
       "\t46\n",
       "\t…\n",
       "\t6\n",
       "\t31\n",
       "\t34\n",
       "\t38\n",
       "\t33\n",
       "]"
      ]
     },
     "execution_count": 4,
     "metadata": {},
     "output_type": "execute_result"
    }
   ],
   "source": [
    "# b) Extract the impact time of all impacts that had an adhesive strength of magnitude greater than 2000 Pa. \n",
    "# *Note*: The data in the `'adhesive strength (Pa)'` column is all negative. \n",
    "# This is because the adhesive force is defined to be negative in the measurement. \n",
    "# Without changing the data in the data frame, how can you check that the magnitude (the absolute value) is greater than 2000?\n",
    "filtered_imapct_times = df.filter(pl.col('adhesive strength (Pa)').abs()>2000).get_column('impact time (ms)')\n",
    "filtered_imapct_times"
   ]
  },
  {
   "cell_type": "code",
   "execution_count": 5,
   "id": "c9f9a3e4",
   "metadata": {},
   "outputs": [
    {
     "data": {
      "text/html": [
       "<div><style>\n",
       ".dataframe > thead > tr,\n",
       ".dataframe > tbody > tr {\n",
       "  text-align: right;\n",
       "  white-space: pre-wrap;\n",
       "}\n",
       "</style>\n",
       "<small>shape: (20, 2)</small><table border=\"1\" class=\"dataframe\"><thead><tr><th>impact force (mN)</th><th>adhesive force (mN)</th></tr><tr><td>i64</td><td>i64</td></tr></thead><tbody><tr><td>1612</td><td>-655</td></tr><tr><td>605</td><td>-292</td></tr><tr><td>327</td><td>-246</td></tr><tr><td>946</td><td>-245</td></tr><tr><td>541</td><td>-553</td></tr><tr><td>&hellip;</td><td>&hellip;</td></tr><tr><td>515</td><td>-599</td></tr><tr><td>435</td><td>-364</td></tr><tr><td>383</td><td>-469</td></tr><tr><td>457</td><td>-844</td></tr><tr><td>730</td><td>-648</td></tr></tbody></table></div>"
      ],
      "text/plain": [
       "shape: (20, 2)\n",
       "┌───────────────────┬─────────────────────┐\n",
       "│ impact force (mN) ┆ adhesive force (mN) │\n",
       "│ ---               ┆ ---                 │\n",
       "│ i64               ┆ i64                 │\n",
       "╞═══════════════════╪═════════════════════╡\n",
       "│ 1612              ┆ -655                │\n",
       "│ 605               ┆ -292                │\n",
       "│ 327               ┆ -246                │\n",
       "│ 946               ┆ -245                │\n",
       "│ 541               ┆ -553                │\n",
       "│ …                 ┆ …                   │\n",
       "│ 515               ┆ -599                │\n",
       "│ 435               ┆ -364                │\n",
       "│ 383               ┆ -469                │\n",
       "│ 457               ┆ -844                │\n",
       "│ 730               ┆ -648                │\n",
       "└───────────────────┴─────────────────────┘"
      ]
     },
     "execution_count": 5,
     "metadata": {},
     "output_type": "execute_result"
    }
   ],
   "source": [
    "# c) Extract the impact force and adhesive force for all of Frog II's strikes.\n",
    "# ID = \"II\", \n",
    "required_id = \"II\"\n",
    "imp_force_col = \"impact force (mN)\"\n",
    "adh_force_col = \"adhesive force (mN)\"\n",
    "selected_df_c = df.filter((pl.col(\"ID\")==required_id)).select([imp_force_col,adh_force_col])\n",
    "selected_df_c"
   ]
  },
  {
   "cell_type": "code",
   "execution_count": 6,
   "id": "a4539da1",
   "metadata": {},
   "outputs": [
    {
     "data": {
      "text/html": [
       "<div><style>\n",
       ".dataframe > thead > tr,\n",
       ".dataframe > tbody > tr {\n",
       "  text-align: right;\n",
       "  white-space: pre-wrap;\n",
       "}\n",
       "</style>\n",
       "<small>shape: (40, 2)</small><table border=\"1\" class=\"dataframe\"><thead><tr><th>adhesive force (mN)</th><th>time frog pulls on target (ms)</th></tr><tr><td>i64</td><td>i64</td></tr></thead><tbody><tr><td>-94</td><td>683</td></tr><tr><td>-163</td><td>245</td></tr><tr><td>-172</td><td>619</td></tr><tr><td>-225</td><td>1823</td></tr><tr><td>-301</td><td>918</td></tr><tr><td>&hellip;</td><td>&hellip;</td></tr><tr><td>-302</td><td>986</td></tr><tr><td>-216</td><td>1627</td></tr><tr><td>-163</td><td>2021</td></tr><tr><td>-367</td><td>1366</td></tr><tr><td>-218</td><td>1269</td></tr></tbody></table></div>"
      ],
      "text/plain": [
       "shape: (40, 2)\n",
       "┌─────────────────────┬────────────────────────────────┐\n",
       "│ adhesive force (mN) ┆ time frog pulls on target (ms) │\n",
       "│ ---                 ┆ ---                            │\n",
       "│ i64                 ┆ i64                            │\n",
       "╞═════════════════════╪════════════════════════════════╡\n",
       "│ -94                 ┆ 683                            │\n",
       "│ -163                ┆ 245                            │\n",
       "│ -172                ┆ 619                            │\n",
       "│ -225                ┆ 1823                           │\n",
       "│ -301                ┆ 918                            │\n",
       "│ …                   ┆ …                              │\n",
       "│ -302                ┆ 986                            │\n",
       "│ -216                ┆ 1627                           │\n",
       "│ -163                ┆ 2021                           │\n",
       "│ -367                ┆ 1366                           │\n",
       "│ -218                ┆ 1269                           │\n",
       "└─────────────────────┴────────────────────────────────┘"
      ]
     },
     "execution_count": 6,
     "metadata": {},
     "output_type": "execute_result"
    }
   ],
   "source": [
    "# d) Extract the adhesive force and the time the frog pulls on the target for juvenile frogs (Frogs III and IV).\n",
    "# *Hint*: We saw the `&` operator for Boolean indexing across more than one column. \n",
    "# The `|` operator signifies OR, and works analogously. \n",
    "# For technical reasons that we can discuss if you like, the Python operators `and` and `or` will **not** work for Boolean indexing of data frames. \n",
    "# You could also approach this using the `is_in()` method of a Polars `Expression`.\n",
    "col1 = \"adhesive force (mN)\"\n",
    "col2 = \"time frog pulls on target (ms)\"\n",
    "selected_df_d = df.filter(pl.col('ID').is_in(['III','IV'])).select([col1, col2])\n",
    "selected_df_d"
   ]
  },
  {
   "cell_type": "markdown",
   "id": "6219d2f3",
   "metadata": {},
   "source": [
    "## Excercise 2\n",
    "We will continue working with the frog tongue adhesion data set.\n",
    "\n",
    "You’ll now practice your split-apply-combine skills. First load in the data set. Then,\n",
    "\n",
    "a) Compute standard deviation of the impact forces for each frog.\n",
    "\n",
    "b) Compute the coefficient of variation of the impact forces and adhesive forces for each frog.\n",
    "\n",
    "c) Compute a data frame that has the mean, median, standard deviation, and coefficient of variation of the impact forces and adhesive forces for each frog."
   ]
  },
  {
   "cell_type": "code",
   "execution_count": 7,
   "id": "ae6da589",
   "metadata": {},
   "outputs": [
    {
     "data": {
      "text/html": [
       "<div><style>\n",
       ".dataframe > thead > tr,\n",
       ".dataframe > tbody > tr {\n",
       "  text-align: right;\n",
       "  white-space: pre-wrap;\n",
       "}\n",
       "</style>\n",
       "<small>shape: (5, 15)</small><table border=\"1\" class=\"dataframe\"><thead><tr><th>date</th><th>ID</th><th>trial number</th><th>impact force (mN)</th><th>impact time (ms)</th><th>impact force / body weight</th><th>adhesive force (mN)</th><th>time frog pulls on target (ms)</th><th>adhesive force / body weight</th><th>adhesive impulse (N-s)</th><th>total contact area (mm2)</th><th>contact area without mucus (mm2)</th><th>contact area with mucus / contact area without mucus</th><th>contact pressure (Pa)</th><th>adhesive strength (Pa)</th></tr><tr><td>str</td><td>str</td><td>i64</td><td>i64</td><td>i64</td><td>f64</td><td>i64</td><td>i64</td><td>f64</td><td>f64</td><td>i64</td><td>i64</td><td>f64</td><td>i64</td><td>i64</td></tr></thead><tbody><tr><td>&quot;2013_02_26&quot;</td><td>&quot;I&quot;</td><td>3</td><td>1205</td><td>46</td><td>1.95</td><td>-785</td><td>884</td><td>1.27</td><td>-0.29</td><td>387</td><td>70</td><td>0.82</td><td>3117</td><td>-2030</td></tr><tr><td>&quot;2013_02_26&quot;</td><td>&quot;I&quot;</td><td>4</td><td>2527</td><td>44</td><td>4.08</td><td>-983</td><td>248</td><td>1.59</td><td>-0.181</td><td>101</td><td>94</td><td>0.07</td><td>24923</td><td>-9695</td></tr><tr><td>&quot;2013_03_01&quot;</td><td>&quot;I&quot;</td><td>1</td><td>1745</td><td>34</td><td>2.82</td><td>-850</td><td>211</td><td>1.37</td><td>-0.157</td><td>83</td><td>79</td><td>0.05</td><td>21020</td><td>-10239</td></tr><tr><td>&quot;2013_03_01&quot;</td><td>&quot;I&quot;</td><td>2</td><td>1556</td><td>41</td><td>2.51</td><td>-455</td><td>1025</td><td>0.74</td><td>-0.17</td><td>330</td><td>158</td><td>0.52</td><td>4718</td><td>-1381</td></tr><tr><td>&quot;2013_03_01&quot;</td><td>&quot;I&quot;</td><td>3</td><td>493</td><td>36</td><td>0.8</td><td>-974</td><td>499</td><td>1.57</td><td>-0.423</td><td>245</td><td>216</td><td>0.12</td><td>2012</td><td>-3975</td></tr></tbody></table></div>"
      ],
      "text/plain": [
       "shape: (5, 15)\n",
       "┌─────────────┬─────┬────────┬─────────────┬───┬────────────┬────────────┬────────────┬────────────┐\n",
       "│ date        ┆ ID  ┆ trial  ┆ impact      ┆ … ┆ contact    ┆ contact    ┆ contact    ┆ adhesive   │\n",
       "│ ---         ┆ --- ┆ number ┆ force (mN)  ┆   ┆ area       ┆ area with  ┆ pressure   ┆ strength   │\n",
       "│ str         ┆ str ┆ ---    ┆ ---         ┆   ┆ without    ┆ mucus /    ┆ (Pa)       ┆ (Pa)       │\n",
       "│             ┆     ┆ i64    ┆ i64         ┆   ┆ mucus (mm… ┆ cont…      ┆ ---        ┆ ---        │\n",
       "│             ┆     ┆        ┆             ┆   ┆ ---        ┆ ---        ┆ i64        ┆ i64        │\n",
       "│             ┆     ┆        ┆             ┆   ┆ i64        ┆ f64        ┆            ┆            │\n",
       "╞═════════════╪═════╪════════╪═════════════╪═══╪════════════╪════════════╪════════════╪════════════╡\n",
       "│ 2013_02_26  ┆ I   ┆ 3      ┆ 1205        ┆ … ┆ 70         ┆ 0.82       ┆ 3117       ┆ -2030      │\n",
       "│ 2013_02_26  ┆ I   ┆ 4      ┆ 2527        ┆ … ┆ 94         ┆ 0.07       ┆ 24923      ┆ -9695      │\n",
       "│ 2013_03_01  ┆ I   ┆ 1      ┆ 1745        ┆ … ┆ 79         ┆ 0.05       ┆ 21020      ┆ -10239     │\n",
       "│ 2013_03_01  ┆ I   ┆ 2      ┆ 1556        ┆ … ┆ 158        ┆ 0.52       ┆ 4718       ┆ -1381      │\n",
       "│ 2013_03_01  ┆ I   ┆ 3      ┆ 493         ┆ … ┆ 216        ┆ 0.12       ┆ 2012       ┆ -3975      │\n",
       "└─────────────┴─────┴────────┴─────────────┴───┴────────────┴────────────┴────────────┴────────────┘"
      ]
     },
     "execution_count": 7,
     "metadata": {},
     "output_type": "execute_result"
    }
   ],
   "source": [
    "df.head()"
   ]
  },
  {
   "cell_type": "code",
   "execution_count": 8,
   "id": "bc642c85",
   "metadata": {},
   "outputs": [
    {
     "data": {
      "text/html": [
       "<div><style>\n",
       ".dataframe > thead > tr,\n",
       ".dataframe > tbody > tr {\n",
       "  text-align: right;\n",
       "  white-space: pre-wrap;\n",
       "}\n",
       "</style>\n",
       "<small>shape: (4, 2)</small><table border=\"1\" class=\"dataframe\"><thead><tr><th>ID</th><th>impact_force_std_by_id</th></tr><tr><td>str</td><td>f64</td></tr></thead><tbody><tr><td>&quot;II&quot;</td><td>424.573256</td></tr><tr><td>&quot;IV&quot;</td><td>234.864328</td></tr><tr><td>&quot;III&quot;</td><td>124.273849</td></tr><tr><td>&quot;I&quot;</td><td>630.207952</td></tr></tbody></table></div>"
      ],
      "text/plain": [
       "shape: (4, 2)\n",
       "┌─────┬────────────────────────┐\n",
       "│ ID  ┆ impact_force_std_by_id │\n",
       "│ --- ┆ ---                    │\n",
       "│ str ┆ f64                    │\n",
       "╞═════╪════════════════════════╡\n",
       "│ II  ┆ 424.573256             │\n",
       "│ IV  ┆ 234.864328             │\n",
       "│ III ┆ 124.273849             │\n",
       "│ I   ┆ 630.207952             │\n",
       "└─────┴────────────────────────┘"
      ]
     },
     "execution_count": 8,
     "metadata": {},
     "output_type": "execute_result"
    }
   ],
   "source": [
    "# a) Compute standard deviation of the impact forces for each frog.\n",
    "df.group_by('ID').agg(pl.col('impact force (mN)').std().alias('impact_force_std_by_id'))"
   ]
  },
  {
   "cell_type": "code",
   "execution_count": 9,
   "id": "93c2ea9b",
   "metadata": {},
   "outputs": [
    {
     "data": {
      "text/html": [
       "<div><style>\n",
       ".dataframe > thead > tr,\n",
       ".dataframe > tbody > tr {\n",
       "  text-align: right;\n",
       "  white-space: pre-wrap;\n",
       "}\n",
       "</style>\n",
       "<small>shape: (4, 3)</small><table border=\"1\" class=\"dataframe\"><thead><tr><th>ID</th><th>impact_force_cov_by_id</th><th>adhesive_force_cov_by_id</th></tr><tr><td>str</td><td>f64</td><td>f64</td></tr></thead><tbody><tr><td>&quot;III&quot;</td><td>0.225911</td><td>-0.426227</td></tr><tr><td>&quot;I&quot;</td><td>0.411847</td><td>-0.253863</td></tr><tr><td>&quot;II&quot;</td><td>0.600231</td><td>-0.440864</td></tr><tr><td>&quot;IV&quot;</td><td>0.560402</td><td>-0.316045</td></tr></tbody></table></div>"
      ],
      "text/plain": [
       "shape: (4, 3)\n",
       "┌─────┬────────────────────────┬──────────────────────────┐\n",
       "│ ID  ┆ impact_force_cov_by_id ┆ adhesive_force_cov_by_id │\n",
       "│ --- ┆ ---                    ┆ ---                      │\n",
       "│ str ┆ f64                    ┆ f64                      │\n",
       "╞═════╪════════════════════════╪══════════════════════════╡\n",
       "│ III ┆ 0.225911               ┆ -0.426227                │\n",
       "│ I   ┆ 0.411847               ┆ -0.253863                │\n",
       "│ II  ┆ 0.600231               ┆ -0.440864                │\n",
       "│ IV  ┆ 0.560402               ┆ -0.316045                │\n",
       "└─────┴────────────────────────┴──────────────────────────┘"
      ]
     },
     "execution_count": 9,
     "metadata": {},
     "output_type": "execute_result"
    }
   ],
   "source": [
    "# b) Compute the coefficient of variation of the impact forces and adhesive forces for each frog.\n",
    "cov = lambda col: col.std() / col.mean()\n",
    "df.group_by('ID').agg([cov(pl.col('impact force (mN)')).alias('impact_force_cov_by_id'),\n",
    "                      cov(pl.col('adhesive force (mN)').alias('adhesive_force_cov_by_id'))])"
   ]
  },
  {
   "cell_type": "code",
   "execution_count": 10,
   "id": "4e9feb49",
   "metadata": {},
   "outputs": [
    {
     "data": {
      "text/html": [
       "<div><style>\n",
       ".dataframe > thead > tr,\n",
       ".dataframe > tbody > tr {\n",
       "  text-align: right;\n",
       "  white-space: pre-wrap;\n",
       "}\n",
       "</style>\n",
       "<small>shape: (4, 9)</small><table border=\"1\" class=\"dataframe\"><thead><tr><th>ID</th><th>impact force (mN) - mean</th><th>impact force (mN) - median</th><th>impact force (mN) - std</th><th>impact force (mN) - cov</th><th>adhesive force (mN) - mean</th><th>adhesive force (mN) - median</th><th>adhesive force (mN) - std</th><th>adhesive force (mN) - cov</th></tr><tr><td>str</td><td>f64</td><td>f64</td><td>f64</td><td>f64</td><td>f64</td><td>f64</td><td>f64</td><td>f64</td></tr></thead><tbody><tr><td>&quot;II&quot;</td><td>707.35</td><td>573.0</td><td>424.573256</td><td>0.600231</td><td>-462.3</td><td>-517.0</td><td>203.8116</td><td>-0.440864</td></tr><tr><td>&quot;III&quot;</td><td>550.1</td><td>544.0</td><td>124.273849</td><td>0.225911</td><td>-206.75</td><td>-201.5</td><td>88.122448</td><td>-0.426227</td></tr><tr><td>&quot;I&quot;</td><td>1530.2</td><td>1550.5</td><td>630.207952</td><td>0.411847</td><td>-658.4</td><td>-664.5</td><td>167.143619</td><td>-0.253863</td></tr><tr><td>&quot;IV&quot;</td><td>419.1</td><td>460.5</td><td>234.864328</td><td>0.560402</td><td>-263.6</td><td>-233.5</td><td>83.309442</td><td>-0.316045</td></tr></tbody></table></div>"
      ],
      "text/plain": [
       "shape: (4, 9)\n",
       "┌─────┬────────┬─────────────┬─────────────┬───┬────────────┬────────────┬────────────┬────────────┐\n",
       "│ ID  ┆ impact ┆ impact      ┆ impact      ┆ … ┆ adhesive   ┆ adhesive   ┆ adhesive   ┆ adhesive   │\n",
       "│ --- ┆ force  ┆ force (mN)  ┆ force (mN)  ┆   ┆ force (mN) ┆ force (mN) ┆ force (mN) ┆ force (mN) │\n",
       "│ str ┆ (mN) - ┆ - median    ┆ - std       ┆   ┆ - mean     ┆ - median   ┆ - std      ┆ - cov      │\n",
       "│     ┆ mean   ┆ ---         ┆ ---         ┆   ┆ ---        ┆ ---        ┆ ---        ┆ ---        │\n",
       "│     ┆ ---    ┆ f64         ┆ f64         ┆   ┆ f64        ┆ f64        ┆ f64        ┆ f64        │\n",
       "│     ┆ f64    ┆             ┆             ┆   ┆            ┆            ┆            ┆            │\n",
       "╞═════╪════════╪═════════════╪═════════════╪═══╪════════════╪════════════╪════════════╪════════════╡\n",
       "│ II  ┆ 707.35 ┆ 573.0       ┆ 424.573256  ┆ … ┆ -462.3     ┆ -517.0     ┆ 203.8116   ┆ -0.440864  │\n",
       "│ III ┆ 550.1  ┆ 544.0       ┆ 124.273849  ┆ … ┆ -206.75    ┆ -201.5     ┆ 88.122448  ┆ -0.426227  │\n",
       "│ I   ┆ 1530.2 ┆ 1550.5      ┆ 630.207952  ┆ … ┆ -658.4     ┆ -664.5     ┆ 167.143619 ┆ -0.253863  │\n",
       "│ IV  ┆ 419.1  ┆ 460.5       ┆ 234.864328  ┆ … ┆ -263.6     ┆ -233.5     ┆ 83.309442  ┆ -0.316045  │\n",
       "└─────┴────────┴─────────────┴─────────────┴───┴────────────┴────────────┴────────────┴────────────┘"
      ]
     },
     "execution_count": 10,
     "metadata": {},
     "output_type": "execute_result"
    }
   ],
   "source": [
    "# c) Compute a data frame that has the mean, median, standard deviation, and coefficient of variation of the impact forces and adhesive forces for each frog.\n",
    "def return_stats(col):\n",
    "    returned_list = [\n",
    "        pl.col(col).mean().alias(f\"{col} - mean\"),\n",
    "        pl.col(col).median().alias(f\"{col} - median\"),\n",
    "        pl.col(col).std().alias(f\"{col} - std\"),\n",
    "        (pl.col(col).std()/pl.col(col).mean()).alias(f\"{col} - cov\")\n",
    "    ]\n",
    "    return returned_list\n",
    "\n",
    "df.group_by('ID').agg(return_stats('impact force (mN)') + return_stats('adhesive force (mN)'))"
   ]
  },
  {
   "cell_type": "markdown",
   "id": "a2e8a991",
   "metadata": {},
   "source": [
    "## Excercise 3\n",
    "So, each frog has associated with it an age (adult or juvenile), snout-vent-length (SVL), body weight, and species (either cross or cranwelli). For a tidy data frame, we should have a column for each of these values. Your task is to load in the data, and then add these columns to the data frame. For convenience, here is a data frame with data about each frog.\n",
    "```\n",
    "#   I:   adult, 63 mm snout-vent-length (SVL) and 63.1 g body weight,\n",
    "#        Ceratophrys cranwelli crossed with Ceratophrys cornuta\n",
    "#   II:  adult, 70 mm SVL and 72.7 g body weight,\n",
    "#        Ceratophrys cranwelli crossed with Ceratophrys cornuta\n",
    "#   III: juvenile, 28 mm SVL and 12.7 g body weight, Ceratophrys cranwelli\n",
    "#   IV:  juvenile, 31 mm SVL and 12.7 g body weight, Ceratophrys cranwelli\n",
    "```"
   ]
  },
  {
   "cell_type": "code",
   "execution_count": 11,
   "id": "ff731aca",
   "metadata": {},
   "outputs": [],
   "source": [
    "df_frog_metadata = pl.DataFrame(\n",
    "    data={\n",
    "        \"ID\": [\"I\", \"II\", \"III\", \"IV\"],\n",
    "        \"age\": [\"adult\", \"adult\", \"juvenile\", \"juvenile\"],\n",
    "        \"SVL (mm)\": [63, 70, 28, 31],\n",
    "        \"weight (g)\": [63.1, 72.7, 12.7, 12.7],\n",
    "        \"species\": [\"cross\", \"cross\", \"cranwelli\", \"cranwelli\"],\n",
    "    }\n",
    ")"
   ]
  },
  {
   "cell_type": "code",
   "execution_count": 12,
   "id": "992d0c1d",
   "metadata": {},
   "outputs": [
    {
     "data": {
      "text/html": [
       "<div><style>\n",
       ".dataframe > thead > tr,\n",
       ".dataframe > tbody > tr {\n",
       "  text-align: right;\n",
       "  white-space: pre-wrap;\n",
       "}\n",
       "</style>\n",
       "<small>shape: (5, 19)</small><table border=\"1\" class=\"dataframe\"><thead><tr><th>date</th><th>ID</th><th>trial number</th><th>impact force (mN)</th><th>impact time (ms)</th><th>impact force / body weight</th><th>adhesive force (mN)</th><th>time frog pulls on target (ms)</th><th>adhesive force / body weight</th><th>adhesive impulse (N-s)</th><th>total contact area (mm2)</th><th>contact area without mucus (mm2)</th><th>contact area with mucus / contact area without mucus</th><th>contact pressure (Pa)</th><th>adhesive strength (Pa)</th><th>age</th><th>SVL (mm)</th><th>weight (g)</th><th>species</th></tr><tr><td>str</td><td>str</td><td>i64</td><td>i64</td><td>i64</td><td>f64</td><td>i64</td><td>i64</td><td>f64</td><td>f64</td><td>i64</td><td>i64</td><td>f64</td><td>i64</td><td>i64</td><td>str</td><td>i64</td><td>f64</td><td>str</td></tr></thead><tbody><tr><td>&quot;2013_02_26&quot;</td><td>&quot;I&quot;</td><td>3</td><td>1205</td><td>46</td><td>1.95</td><td>-785</td><td>884</td><td>1.27</td><td>-0.29</td><td>387</td><td>70</td><td>0.82</td><td>3117</td><td>-2030</td><td>&quot;adult&quot;</td><td>63</td><td>63.1</td><td>&quot;cross&quot;</td></tr><tr><td>&quot;2013_02_26&quot;</td><td>&quot;I&quot;</td><td>4</td><td>2527</td><td>44</td><td>4.08</td><td>-983</td><td>248</td><td>1.59</td><td>-0.181</td><td>101</td><td>94</td><td>0.07</td><td>24923</td><td>-9695</td><td>&quot;adult&quot;</td><td>63</td><td>63.1</td><td>&quot;cross&quot;</td></tr><tr><td>&quot;2013_03_01&quot;</td><td>&quot;I&quot;</td><td>1</td><td>1745</td><td>34</td><td>2.82</td><td>-850</td><td>211</td><td>1.37</td><td>-0.157</td><td>83</td><td>79</td><td>0.05</td><td>21020</td><td>-10239</td><td>&quot;adult&quot;</td><td>63</td><td>63.1</td><td>&quot;cross&quot;</td></tr><tr><td>&quot;2013_03_01&quot;</td><td>&quot;I&quot;</td><td>2</td><td>1556</td><td>41</td><td>2.51</td><td>-455</td><td>1025</td><td>0.74</td><td>-0.17</td><td>330</td><td>158</td><td>0.52</td><td>4718</td><td>-1381</td><td>&quot;adult&quot;</td><td>63</td><td>63.1</td><td>&quot;cross&quot;</td></tr><tr><td>&quot;2013_03_01&quot;</td><td>&quot;I&quot;</td><td>3</td><td>493</td><td>36</td><td>0.8</td><td>-974</td><td>499</td><td>1.57</td><td>-0.423</td><td>245</td><td>216</td><td>0.12</td><td>2012</td><td>-3975</td><td>&quot;adult&quot;</td><td>63</td><td>63.1</td><td>&quot;cross&quot;</td></tr></tbody></table></div>"
      ],
      "text/plain": [
       "shape: (5, 19)\n",
       "┌────────────┬─────┬──────────────┬──────────────┬───┬───────┬──────────┬────────────┬─────────┐\n",
       "│ date       ┆ ID  ┆ trial number ┆ impact force ┆ … ┆ age   ┆ SVL (mm) ┆ weight (g) ┆ species │\n",
       "│ ---        ┆ --- ┆ ---          ┆ (mN)         ┆   ┆ ---   ┆ ---      ┆ ---        ┆ ---     │\n",
       "│ str        ┆ str ┆ i64          ┆ ---          ┆   ┆ str   ┆ i64      ┆ f64        ┆ str     │\n",
       "│            ┆     ┆              ┆ i64          ┆   ┆       ┆          ┆            ┆         │\n",
       "╞════════════╪═════╪══════════════╪══════════════╪═══╪═══════╪══════════╪════════════╪═════════╡\n",
       "│ 2013_02_26 ┆ I   ┆ 3            ┆ 1205         ┆ … ┆ adult ┆ 63       ┆ 63.1       ┆ cross   │\n",
       "│ 2013_02_26 ┆ I   ┆ 4            ┆ 2527         ┆ … ┆ adult ┆ 63       ┆ 63.1       ┆ cross   │\n",
       "│ 2013_03_01 ┆ I   ┆ 1            ┆ 1745         ┆ … ┆ adult ┆ 63       ┆ 63.1       ┆ cross   │\n",
       "│ 2013_03_01 ┆ I   ┆ 2            ┆ 1556         ┆ … ┆ adult ┆ 63       ┆ 63.1       ┆ cross   │\n",
       "│ 2013_03_01 ┆ I   ┆ 3            ┆ 493          ┆ … ┆ adult ┆ 63       ┆ 63.1       ┆ cross   │\n",
       "└────────────┴─────┴──────────────┴──────────────┴───┴───────┴──────────┴────────────┴─────────┘"
      ]
     },
     "execution_count": 12,
     "metadata": {},
     "output_type": "execute_result"
    }
   ],
   "source": [
    "joined_df = df.join(df_frog_metadata, on='ID', how='full',coalesce=True)\n",
    "joined_df.head()"
   ]
  },
  {
   "cell_type": "code",
   "execution_count": null,
   "id": "3996ff8e",
   "metadata": {},
   "outputs": [],
   "source": []
  },
  {
   "cell_type": "markdown",
   "id": "bd488630",
   "metadata": {},
   "source": [
    "# Plotting in class"
   ]
  },
  {
   "cell_type": "code",
   "execution_count": 14,
   "id": "1cdbdbb3",
   "metadata": {},
   "outputs": [
    {
     "data": {
      "text/html": [
       "    <style>\n",
       "        .bk-notebook-logo {\n",
       "            display: block;\n",
       "            width: 20px;\n",
       "            height: 20px;\n",
       "            background-image: url(data:image/png;base64,iVBORw0KGgoAAAANSUhEUgAAABQAAAAUCAYAAACNiR0NAAAABHNCSVQICAgIfAhkiAAAAAlwSFlzAAALEgAACxIB0t1+/AAAABx0RVh0U29mdHdhcmUAQWRvYmUgRmlyZXdvcmtzIENTNui8sowAAAOkSURBVDiNjZRtaJVlGMd/1/08zzln5zjP1LWcU9N0NkN8m2CYjpgQYQXqSs0I84OLIC0hkEKoPtiH3gmKoiJDU7QpLgoLjLIQCpEsNJ1vqUOdO7ppbuec5+V+rj4ctwzd8IIbbi6u+8f1539dt3A78eXC7QizUF7gyV1fD1Yqg4JWz84yffhm0qkFqBogB9rM8tZdtwVsPUhWhGcFJngGeWrPzHm5oaMmkfEg1usvLFyc8jLRqDOMru7AyC8saQr7GG7f5fvDeH7Ej8CM66nIF+8yngt6HWaKh7k49Soy9nXurCi1o3qUbS3zWfrYeQDTB/Qj6kX6Ybhw4B+bOYoLKCC9H3Nu/leUTZ1JdRWkkn2ldcCamzrcf47KKXdAJllSlxAOkRgyHsGC/zRday5Qld9DyoM4/q/rUoy/CXh3jzOu3bHUVZeU+DEn8FInkPBFlu3+nW3Nw0mk6vCDiWg8CeJaxEwuHS3+z5RgY+YBR6V1Z1nxSOfoaPa4LASWxxdNp+VWTk7+4vzaou8v8PN+xo+KY2xsw6une2frhw05CTYOmQvsEhjhWjn0bmXPjpE1+kplmmkP3suftwTubK9Vq22qKmrBhpY4jvd5afdRA3wGjFAgcnTK2s4hY0/GPNIb0nErGMCRxWOOX64Z8RAC4oCXdklmEvcL8o0BfkNK4lUg9HTl+oPlQxdNo3Mg4Nv175e/1LDGzZen30MEjRUtmXSfiTVu1kK8W4txyV6BMKlbgk3lMwYCiusNy9fVfvvwMxv8Ynl6vxoByANLTWplvuj/nF9m2+PDtt1eiHPBr1oIfhCChQMBw6Aw0UulqTKZdfVvfG7VcfIqLG9bcldL/+pdWTLxLUy8Qq38heUIjh4XlzZxzQm19lLFlr8vdQ97rjZVOLf8nclzckbcD4wxXMidpX30sFd37Fv/GtwwhzhxGVAprjbg0gCAEeIgwCZyTV2Z1REEW8O4py0wsjeloKoMr6iCY6dP92H6Vw/oTyICIthibxjm/DfN9lVz8IqtqKYLUXfoKVMVQVVJOElGjrnnUt9T9wbgp8AyYKaGlqingHZU/uG2NTZSVqwHQTWkx9hxjkpWDaCg6Ckj5qebgBVbT3V3NNXMSiWSDdGV3hrtzla7J+duwPOToIg42ChPQOQjspnSlp1V+Gjdged7+8UN5CRAV7a5EdFNwCjEaBR27b3W890TE7g24NAP/mMDXRWrGoFPQI9ls/MWO2dWFAar/xcOIImbbpA3zgAAAABJRU5ErkJggg==);\n",
       "        }\n",
       "    </style>\n",
       "    <div>\n",
       "        <a href=\"https://bokeh.org\" target=\"_blank\" class=\"bk-notebook-logo\"></a>\n",
       "        <span id=\"f21b8cca-db15-4f11-a40f-8b3da8f1424e\">Loading BokehJS ...</span>\n",
       "    </div>\n"
      ]
     },
     "metadata": {},
     "output_type": "display_data"
    },
    {
     "data": {
      "application/javascript": "'use strict';\n(function(root) {\n  function now() {\n    return new Date();\n  }\n\n  const force = true;\n\n  if (typeof root._bokeh_onload_callbacks === \"undefined\" || force === true) {\n    root._bokeh_onload_callbacks = [];\n    root._bokeh_is_loading = undefined;\n  }\n\nconst JS_MIME_TYPE = 'application/javascript';\n  const HTML_MIME_TYPE = 'text/html';\n  const EXEC_MIME_TYPE = 'application/vnd.bokehjs_exec.v0+json';\n  const CLASS_NAME = 'output_bokeh rendered_html';\n\n  /**\n   * Render data to the DOM node\n   */\n  function render(props, node) {\n    const script = document.createElement(\"script\");\n    node.appendChild(script);\n  }\n\n  /**\n   * Handle when an output is cleared or removed\n   */\n  function handleClearOutput(event, handle) {\n    function drop(id) {\n      const view = Bokeh.index.get_by_id(id)\n      if (view != null) {\n        view.model.document.clear()\n        Bokeh.index.delete(view)\n      }\n    }\n\n    const cell = handle.cell;\n\n    const id = cell.output_area._bokeh_element_id;\n    const server_id = cell.output_area._bokeh_server_id;\n\n    // Clean up Bokeh references\n    if (id != null) {\n      drop(id)\n    }\n\n    if (server_id !== undefined) {\n      // Clean up Bokeh references\n      const cmd_clean = \"from bokeh.io.state import curstate; print(curstate().uuid_to_server['\" + server_id + \"'].get_sessions()[0].document.roots[0]._id)\";\n      cell.notebook.kernel.execute(cmd_clean, {\n        iopub: {\n          output: function(msg) {\n            const id = msg.content.text.trim()\n            drop(id)\n          }\n        }\n      });\n      // Destroy server and session\n      const cmd_destroy = \"import bokeh.io.notebook as ion; ion.destroy_server('\" + server_id + \"')\";\n      cell.notebook.kernel.execute(cmd_destroy);\n    }\n  }\n\n  /**\n   * Handle when a new output is added\n   */\n  function handleAddOutput(event, handle) {\n    const output_area = handle.output_area;\n    const output = handle.output;\n\n    // limit handleAddOutput to display_data with EXEC_MIME_TYPE content only\n    if ((output.output_type != \"display_data\") || (!Object.prototype.hasOwnProperty.call(output.data, EXEC_MIME_TYPE))) {\n      return\n    }\n\n    const toinsert = output_area.element.find(\".\" + CLASS_NAME.split(' ')[0]);\n\n    if (output.metadata[EXEC_MIME_TYPE][\"id\"] !== undefined) {\n      toinsert[toinsert.length - 1].firstChild.textContent = output.data[JS_MIME_TYPE];\n      // store reference to embed id on output_area\n      output_area._bokeh_element_id = output.metadata[EXEC_MIME_TYPE][\"id\"];\n    }\n    if (output.metadata[EXEC_MIME_TYPE][\"server_id\"] !== undefined) {\n      const bk_div = document.createElement(\"div\");\n      bk_div.innerHTML = output.data[HTML_MIME_TYPE];\n      const script_attrs = bk_div.children[0].attributes;\n      for (let i = 0; i < script_attrs.length; i++) {\n        toinsert[toinsert.length - 1].firstChild.setAttribute(script_attrs[i].name, script_attrs[i].value);\n        toinsert[toinsert.length - 1].firstChild.textContent = bk_div.children[0].textContent\n      }\n      // store reference to server id on output_area\n      output_area._bokeh_server_id = output.metadata[EXEC_MIME_TYPE][\"server_id\"];\n    }\n  }\n\n  function register_renderer(events, OutputArea) {\n\n    function append_mime(data, metadata, element) {\n      // create a DOM node to render to\n      const toinsert = this.create_output_subarea(\n        metadata,\n        CLASS_NAME,\n        EXEC_MIME_TYPE\n      );\n      this.keyboard_manager.register_events(toinsert);\n      // Render to node\n      const props = {data: data, metadata: metadata[EXEC_MIME_TYPE]};\n      render(props, toinsert[toinsert.length - 1]);\n      element.append(toinsert);\n      return toinsert\n    }\n\n    /* Handle when an output is cleared or removed */\n    events.on('clear_output.CodeCell', handleClearOutput);\n    events.on('delete.Cell', handleClearOutput);\n\n    /* Handle when a new output is added */\n    events.on('output_added.OutputArea', handleAddOutput);\n\n    /**\n     * Register the mime type and append_mime function with output_area\n     */\n    OutputArea.prototype.register_mime_type(EXEC_MIME_TYPE, append_mime, {\n      /* Is output safe? */\n      safe: true,\n      /* Index of renderer in `output_area.display_order` */\n      index: 0\n    });\n  }\n\n  // register the mime type if in Jupyter Notebook environment and previously unregistered\n  if (root.Jupyter !== undefined) {\n    const events = require('base/js/events');\n    const OutputArea = require('notebook/js/outputarea').OutputArea;\n\n    if (OutputArea.prototype.mime_types().indexOf(EXEC_MIME_TYPE) == -1) {\n      register_renderer(events, OutputArea);\n    }\n  }\n  if (typeof (root._bokeh_timeout) === \"undefined\" || force === true) {\n    root._bokeh_timeout = Date.now() + 5000;\n    root._bokeh_failed_load = false;\n  }\n\n  const NB_LOAD_WARNING = {'data': {'text/html':\n     \"<div style='background-color: #fdd'>\\n\"+\n     \"<p>\\n\"+\n     \"BokehJS does not appear to have successfully loaded. If loading BokehJS from CDN, this \\n\"+\n     \"may be due to a slow or bad network connection. Possible fixes:\\n\"+\n     \"</p>\\n\"+\n     \"<ul>\\n\"+\n     \"<li>re-rerun `output_notebook()` to attempt to load from CDN again, or</li>\\n\"+\n     \"<li>use INLINE resources instead, as so:</li>\\n\"+\n     \"</ul>\\n\"+\n     \"<code>\\n\"+\n     \"from bokeh.resources import INLINE\\n\"+\n     \"output_notebook(resources=INLINE)\\n\"+\n     \"</code>\\n\"+\n     \"</div>\"}};\n\n  function display_loaded(error = null) {\n    const el = document.getElementById(\"f21b8cca-db15-4f11-a40f-8b3da8f1424e\");\n    if (el != null) {\n      const html = (() => {\n        if (typeof root.Bokeh === \"undefined\") {\n          if (error == null) {\n            return \"BokehJS is loading ...\";\n          } else {\n            return \"BokehJS failed to load.\";\n          }\n        } else {\n          const prefix = `BokehJS ${root.Bokeh.version}`;\n          if (error == null) {\n            return `${prefix} successfully loaded.`;\n          } else {\n            return `${prefix} <b>encountered errors</b> while loading and may not function as expected.`;\n          }\n        }\n      })();\n      el.innerHTML = html;\n\n      if (error != null) {\n        const wrapper = document.createElement(\"div\");\n        wrapper.style.overflow = \"auto\";\n        wrapper.style.height = \"5em\";\n        wrapper.style.resize = \"vertical\";\n        const content = document.createElement(\"div\");\n        content.style.fontFamily = \"monospace\";\n        content.style.whiteSpace = \"pre-wrap\";\n        content.style.backgroundColor = \"rgb(255, 221, 221)\";\n        content.textContent = error.stack ?? error.toString();\n        wrapper.append(content);\n        el.append(wrapper);\n      }\n    } else if (Date.now() < root._bokeh_timeout) {\n      setTimeout(() => display_loaded(error), 100);\n    }\n  }\n\n  function run_callbacks() {\n    try {\n      root._bokeh_onload_callbacks.forEach(function(callback) {\n        if (callback != null)\n          callback();\n      });\n    } finally {\n      delete root._bokeh_onload_callbacks\n    }\n    console.debug(\"Bokeh: all callbacks have finished\");\n  }\n\n  function load_libs(css_urls, js_urls, callback) {\n    if (css_urls == null) css_urls = [];\n    if (js_urls == null) js_urls = [];\n\n    root._bokeh_onload_callbacks.push(callback);\n    if (root._bokeh_is_loading > 0) {\n      console.debug(\"Bokeh: BokehJS is being loaded, scheduling callback at\", now());\n      return null;\n    }\n    if (js_urls == null || js_urls.length === 0) {\n      run_callbacks();\n      return null;\n    }\n    console.debug(\"Bokeh: BokehJS not loaded, scheduling load and callback at\", now());\n    root._bokeh_is_loading = css_urls.length + js_urls.length;\n\n    function on_load() {\n      root._bokeh_is_loading--;\n      if (root._bokeh_is_loading === 0) {\n        console.debug(\"Bokeh: all BokehJS libraries/stylesheets loaded\");\n        run_callbacks()\n      }\n    }\n\n    function on_error(url) {\n      console.error(\"failed to load \" + url);\n    }\n\n    for (let i = 0; i < css_urls.length; i++) {\n      const url = css_urls[i];\n      const element = document.createElement(\"link\");\n      element.onload = on_load;\n      element.onerror = on_error.bind(null, url);\n      element.rel = \"stylesheet\";\n      element.type = \"text/css\";\n      element.href = url;\n      console.debug(\"Bokeh: injecting link tag for BokehJS stylesheet: \", url);\n      document.body.appendChild(element);\n    }\n\n    for (let i = 0; i < js_urls.length; i++) {\n      const url = js_urls[i];\n      const element = document.createElement('script');\n      element.onload = on_load;\n      element.onerror = on_error.bind(null, url);\n      element.async = false;\n      element.src = url;\n      console.debug(\"Bokeh: injecting script tag for BokehJS library: \", url);\n      document.head.appendChild(element);\n    }\n  };\n\n  function inject_raw_css(css) {\n    const element = document.createElement(\"style\");\n    element.appendChild(document.createTextNode(css));\n    document.body.appendChild(element);\n  }\n\n  const js_urls = [\"https://cdn.bokeh.org/bokeh/release/bokeh-3.7.3.min.js\", \"https://cdn.bokeh.org/bokeh/release/bokeh-gl-3.7.3.min.js\", \"https://cdn.bokeh.org/bokeh/release/bokeh-widgets-3.7.3.min.js\", \"https://cdn.bokeh.org/bokeh/release/bokeh-tables-3.7.3.min.js\", \"https://cdn.bokeh.org/bokeh/release/bokeh-mathjax-3.7.3.min.js\"];\n  const css_urls = [];\n\n  const inline_js = [    function(Bokeh) {\n      Bokeh.set_log_level(\"info\");\n    },\nfunction(Bokeh) {\n    }\n  ];\n\n  function run_inline_js() {\n    if (root.Bokeh !== undefined || force === true) {\n      try {\n            for (let i = 0; i < inline_js.length; i++) {\n      inline_js[i].call(root, root.Bokeh);\n    }\n\n      } catch (error) {display_loaded(error);throw error;\n      }if (force === true) {\n        display_loaded();\n      }} else if (Date.now() < root._bokeh_timeout) {\n      setTimeout(run_inline_js, 100);\n    } else if (!root._bokeh_failed_load) {\n      console.log(\"Bokeh: BokehJS failed to load within specified timeout.\");\n      root._bokeh_failed_load = true;\n    } else if (force !== true) {\n      const cell = $(document.getElementById(\"f21b8cca-db15-4f11-a40f-8b3da8f1424e\")).parents('.cell').data().cell;\n      cell.output_area.append_execute_result(NB_LOAD_WARNING)\n    }\n  }\n\n  if (root._bokeh_is_loading === 0) {\n    console.debug(\"Bokeh: BokehJS loaded, going straight to plotting\");\n    run_inline_js();\n  } else {\n    load_libs(css_urls, js_urls, function() {\n      console.debug(\"Bokeh: BokehJS plotting callback run at\", now());\n      run_inline_js();\n    });\n  }\n}(window));",
      "application/vnd.bokehjs_load.v0+json": ""
     },
     "metadata": {},
     "output_type": "display_data"
    }
   ],
   "source": [
    "import iqplot\n",
    "import bokeh.io\n",
    "bokeh.io.output_notebook()"
   ]
  },
  {
   "cell_type": "code",
   "execution_count": 23,
   "id": "93aec019",
   "metadata": {},
   "outputs": [
    {
     "data": {
      "text/html": [
       "\n",
       "  <div id=\"b8691424-1682-46ca-92ae-7eb39d1e29f4\" data-root-id=\"p1580\" style=\"display: contents;\"></div>\n"
      ]
     },
     "metadata": {},
     "output_type": "display_data"
    },
    {
     "data": {
      "application/javascript": "(function(root) {\n  function embed_document(root) {\n  const docs_json = {\"b05ee088-2cc1-4b6d-8dec-3a50e46eb1e1\":{\"version\":\"3.7.3\",\"title\":\"Bokeh Application\",\"roots\":[{\"type\":\"object\",\"name\":\"Figure\",\"id\":\"p1580\",\"attributes\":{\"x_range\":{\"type\":\"object\",\"name\":\"DataRange1d\",\"id\":\"p1582\"},\"y_range\":{\"type\":\"object\",\"name\":\"FactorRange\",\"id\":\"p1579\",\"attributes\":{\"factors\":[\"IV\",\"III\",\"II\",\"I\"]}},\"x_scale\":{\"type\":\"object\",\"name\":\"LinearScale\",\"id\":\"p1589\"},\"y_scale\":{\"type\":\"object\",\"name\":\"CategoricalScale\",\"id\":\"p1590\"},\"title\":{\"type\":\"object\",\"name\":\"Title\",\"id\":\"p1587\"},\"renderers\":[{\"type\":\"object\",\"name\":\"GlyphRenderer\",\"id\":\"p1629\",\"attributes\":{\"data_source\":{\"type\":\"object\",\"name\":\"ColumnDataSource\",\"id\":\"p1614\",\"attributes\":{\"selected\":{\"type\":\"object\",\"name\":\"Selection\",\"id\":\"p1615\",\"attributes\":{\"indices\":[],\"line_indices\":[]}},\"selection_policy\":{\"type\":\"object\",\"name\":\"UnionRenderers\",\"id\":\"p1616\"},\"data\":{\"type\":\"map\",\"entries\":[[\"middle\",[1550.5,573.0,544.0,460.5]],[\"bottom\",[1231.25,422.0,458.75,198.0]],[\"top\",[1904.75,799.75,615.75,599.0]],[\"top_whisker\",[2641.0,1182.0,806.0,815.0]],[\"bottom_whisker\",[473.0,245.0,324.0,22.0]],[\"cat\",[\"I\",\"II\",\"III\",\"IV\"]],[\"__label\",[\"I\",\"II\",\"III\",\"IV\"]]]}}},\"view\":{\"type\":\"object\",\"name\":\"CDSView\",\"id\":\"p1630\",\"attributes\":{\"filter\":{\"type\":\"object\",\"name\":\"AllIndices\",\"id\":\"p1631\"}}},\"glyph\":{\"type\":\"object\",\"name\":\"Segment\",\"id\":\"p1626\",\"attributes\":{\"x0\":{\"type\":\"field\",\"field\":\"top\"},\"y0\":{\"type\":\"field\",\"field\":\"cat\"},\"x1\":{\"type\":\"field\",\"field\":\"top_whisker\"},\"y1\":{\"type\":\"field\",\"field\":\"cat\"},\"line_color\":{\"type\":\"value\",\"value\":\"gray\"}}},\"nonselection_glyph\":{\"type\":\"object\",\"name\":\"Segment\",\"id\":\"p1627\",\"attributes\":{\"x0\":{\"type\":\"field\",\"field\":\"top\"},\"y0\":{\"type\":\"field\",\"field\":\"cat\"},\"x1\":{\"type\":\"field\",\"field\":\"top_whisker\"},\"y1\":{\"type\":\"field\",\"field\":\"cat\"},\"line_color\":{\"type\":\"value\",\"value\":\"gray\"},\"line_alpha\":{\"type\":\"value\",\"value\":0.1}}},\"muted_glyph\":{\"type\":\"object\",\"name\":\"Segment\",\"id\":\"p1628\",\"attributes\":{\"x0\":{\"type\":\"field\",\"field\":\"top\"},\"y0\":{\"type\":\"field\",\"field\":\"cat\"},\"x1\":{\"type\":\"field\",\"field\":\"top_whisker\"},\"y1\":{\"type\":\"field\",\"field\":\"cat\"},\"line_color\":{\"type\":\"value\",\"value\":\"gray\"},\"line_alpha\":{\"type\":\"value\",\"value\":0.2}}}}},{\"type\":\"object\",\"name\":\"GlyphRenderer\",\"id\":\"p1638\",\"attributes\":{\"data_source\":{\"id\":\"p1614\"},\"view\":{\"type\":\"object\",\"name\":\"CDSView\",\"id\":\"p1639\",\"attributes\":{\"filter\":{\"type\":\"object\",\"name\":\"AllIndices\",\"id\":\"p1640\"}}},\"glyph\":{\"type\":\"object\",\"name\":\"Segment\",\"id\":\"p1635\",\"attributes\":{\"x0\":{\"type\":\"field\",\"field\":\"bottom\"},\"y0\":{\"type\":\"field\",\"field\":\"cat\"},\"x1\":{\"type\":\"field\",\"field\":\"bottom_whisker\"},\"y1\":{\"type\":\"field\",\"field\":\"cat\"},\"line_color\":{\"type\":\"value\",\"value\":\"gray\"}}},\"nonselection_glyph\":{\"type\":\"object\",\"name\":\"Segment\",\"id\":\"p1636\",\"attributes\":{\"x0\":{\"type\":\"field\",\"field\":\"bottom\"},\"y0\":{\"type\":\"field\",\"field\":\"cat\"},\"x1\":{\"type\":\"field\",\"field\":\"bottom_whisker\"},\"y1\":{\"type\":\"field\",\"field\":\"cat\"},\"line_color\":{\"type\":\"value\",\"value\":\"gray\"},\"line_alpha\":{\"type\":\"value\",\"value\":0.1}}},\"muted_glyph\":{\"type\":\"object\",\"name\":\"Segment\",\"id\":\"p1637\",\"attributes\":{\"x0\":{\"type\":\"field\",\"field\":\"bottom\"},\"y0\":{\"type\":\"field\",\"field\":\"cat\"},\"x1\":{\"type\":\"field\",\"field\":\"bottom_whisker\"},\"y1\":{\"type\":\"field\",\"field\":\"cat\"},\"line_color\":{\"type\":\"value\",\"value\":\"gray\"},\"line_alpha\":{\"type\":\"value\",\"value\":0.2}}}}},{\"type\":\"object\",\"name\":\"GlyphRenderer\",\"id\":\"p1647\",\"attributes\":{\"data_source\":{\"id\":\"p1614\"},\"view\":{\"type\":\"object\",\"name\":\"CDSView\",\"id\":\"p1648\",\"attributes\":{\"filter\":{\"type\":\"object\",\"name\":\"AllIndices\",\"id\":\"p1649\"}}},\"glyph\":{\"type\":\"object\",\"name\":\"HBar\",\"id\":\"p1644\",\"attributes\":{\"y\":{\"type\":\"field\",\"field\":\"cat\"},\"height\":{\"type\":\"value\",\"value\":0.1},\"left\":{\"type\":\"field\",\"field\":\"top_whisker\"},\"right\":{\"type\":\"field\",\"field\":\"top_whisker\"},\"line_color\":{\"type\":\"value\",\"value\":\"gray\"},\"fill_color\":{\"type\":\"value\",\"value\":\"#1f77b4\"}}},\"nonselection_glyph\":{\"type\":\"object\",\"name\":\"HBar\",\"id\":\"p1645\",\"attributes\":{\"y\":{\"type\":\"field\",\"field\":\"cat\"},\"height\":{\"type\":\"value\",\"value\":0.1},\"left\":{\"type\":\"field\",\"field\":\"top_whisker\"},\"right\":{\"type\":\"field\",\"field\":\"top_whisker\"},\"line_color\":{\"type\":\"value\",\"value\":\"gray\"},\"line_alpha\":{\"type\":\"value\",\"value\":0.1},\"fill_color\":{\"type\":\"value\",\"value\":\"#1f77b4\"},\"fill_alpha\":{\"type\":\"value\",\"value\":0.1},\"hatch_alpha\":{\"type\":\"value\",\"value\":0.1}}},\"muted_glyph\":{\"type\":\"object\",\"name\":\"HBar\",\"id\":\"p1646\",\"attributes\":{\"y\":{\"type\":\"field\",\"field\":\"cat\"},\"height\":{\"type\":\"value\",\"value\":0.1},\"left\":{\"type\":\"field\",\"field\":\"top_whisker\"},\"right\":{\"type\":\"field\",\"field\":\"top_whisker\"},\"line_color\":{\"type\":\"value\",\"value\":\"gray\"},\"line_alpha\":{\"type\":\"value\",\"value\":0.2},\"fill_color\":{\"type\":\"value\",\"value\":\"#1f77b4\"},\"fill_alpha\":{\"type\":\"value\",\"value\":0.2},\"hatch_alpha\":{\"type\":\"value\",\"value\":0.2}}}}},{\"type\":\"object\",\"name\":\"GlyphRenderer\",\"id\":\"p1656\",\"attributes\":{\"data_source\":{\"id\":\"p1614\"},\"view\":{\"type\":\"object\",\"name\":\"CDSView\",\"id\":\"p1657\",\"attributes\":{\"filter\":{\"type\":\"object\",\"name\":\"AllIndices\",\"id\":\"p1658\"}}},\"glyph\":{\"type\":\"object\",\"name\":\"HBar\",\"id\":\"p1653\",\"attributes\":{\"y\":{\"type\":\"field\",\"field\":\"cat\"},\"height\":{\"type\":\"value\",\"value\":0.1},\"left\":{\"type\":\"field\",\"field\":\"bottom_whisker\"},\"right\":{\"type\":\"field\",\"field\":\"bottom_whisker\"},\"line_color\":{\"type\":\"value\",\"value\":\"gray\"},\"fill_color\":{\"type\":\"value\",\"value\":\"#1f77b4\"}}},\"nonselection_glyph\":{\"type\":\"object\",\"name\":\"HBar\",\"id\":\"p1654\",\"attributes\":{\"y\":{\"type\":\"field\",\"field\":\"cat\"},\"height\":{\"type\":\"value\",\"value\":0.1},\"left\":{\"type\":\"field\",\"field\":\"bottom_whisker\"},\"right\":{\"type\":\"field\",\"field\":\"bottom_whisker\"},\"line_color\":{\"type\":\"value\",\"value\":\"gray\"},\"line_alpha\":{\"type\":\"value\",\"value\":0.1},\"fill_color\":{\"type\":\"value\",\"value\":\"#1f77b4\"},\"fill_alpha\":{\"type\":\"value\",\"value\":0.1},\"hatch_alpha\":{\"type\":\"value\",\"value\":0.1}}},\"muted_glyph\":{\"type\":\"object\",\"name\":\"HBar\",\"id\":\"p1655\",\"attributes\":{\"y\":{\"type\":\"field\",\"field\":\"cat\"},\"height\":{\"type\":\"value\",\"value\":0.1},\"left\":{\"type\":\"field\",\"field\":\"bottom_whisker\"},\"right\":{\"type\":\"field\",\"field\":\"bottom_whisker\"},\"line_color\":{\"type\":\"value\",\"value\":\"gray\"},\"line_alpha\":{\"type\":\"value\",\"value\":0.2},\"fill_color\":{\"type\":\"value\",\"value\":\"#1f77b4\"},\"fill_alpha\":{\"type\":\"value\",\"value\":0.2},\"hatch_alpha\":{\"type\":\"value\",\"value\":0.2}}}}},{\"type\":\"object\",\"name\":\"GlyphRenderer\",\"id\":\"p1665\",\"attributes\":{\"data_source\":{\"id\":\"p1614\"},\"view\":{\"type\":\"object\",\"name\":\"CDSView\",\"id\":\"p1666\",\"attributes\":{\"filter\":{\"type\":\"object\",\"name\":\"AllIndices\",\"id\":\"p1667\"}}},\"glyph\":{\"type\":\"object\",\"name\":\"HBar\",\"id\":\"p1662\",\"attributes\":{\"y\":{\"type\":\"field\",\"field\":\"cat\"},\"height\":{\"type\":\"value\",\"value\":0.4},\"left\":{\"type\":\"field\",\"field\":\"bottom\"},\"right\":{\"type\":\"field\",\"field\":\"top\"},\"line_color\":{\"type\":\"value\",\"value\":\"gray\"},\"fill_color\":{\"type\":\"field\",\"field\":\"cat\",\"transform\":{\"type\":\"object\",\"name\":\"CategoricalColorMapper\",\"id\":\"p1622\",\"attributes\":{\"palette\":[\"#1f77b3\",\"#ff7e0e\",\"#2ba02b\",\"#d62628\",\"#9367bc\",\"#8c564b\",\"#e277c1\",\"#7e7e7e\",\"#bcbc21\",\"#16bdcf\",\"#3a0182\",\"#004201\",\"#0fffa8\",\"#5d003f\",\"#bcbcff\",\"#d8afa1\",\"#b80080\",\"#004d52\",\"#6b6400\",\"#7c0100\",\"#6026ff\",\"#ffff9a\",\"#564964\",\"#8cb893\",\"#93fbff\",\"#018267\",\"#90ff00\",\"#8200a0\",\"#ac8944\",\"#5b3400\",\"#ffbff2\",\"#ff6e75\",\"#798cff\",\"#dd00ff\",\"#505646\",\"#004489\",\"#ffbf60\",\"#ff018c\",\"#bdc8cf\",\"#af97b5\",\"#b65600\",\"#017000\",\"#cd87ff\",\"#1cd646\",\"#bfebc3\",\"#7997b5\",\"#a56089\",\"#6e8956\",\"#bc7c75\",\"#8a2844\",\"#00acff\",\"#8ed4ff\",\"#4b6d77\",\"#00d4b1\",\"#9300f2\",\"#8a9500\",\"#5d5b9e\",\"#fddfba\",\"#00939e\",\"#ffdb00\",\"#00aa79\",\"#520067\",\"#000091\",\"#0a5d3d\",\"#a5e275\",\"#623b41\",\"#c6c689\",\"#ff9eb5\",\"#cd4f6b\",\"#ff07d6\",\"#8a3a05\",\"#7e3d70\",\"#ff4901\",\"#602ba5\",\"#1c00ff\",\"#e6dfff\",\"#aa3baf\",\"#d89c00\",\"#a3a39e\",\"#3f69ff\",\"#46490c\",\"#7b6985\",\"#6b978c\",\"#ff9a75\",\"#835bff\",\"#7c6b46\",\"#80b654\",\"#bc0049\",\"#fd93ff\",\"#5d0018\",\"#89d1d1\",\"#9c8cd3\",\"#da6d42\",\"#8a5700\",\"#3b5069\",\"#4b6b3b\",\"#edcfd8\",\"#cfedff\",\"#aa1500\",\"#dfff4f\",\"#ff2a56\",\"#d1499e\",\"#707cb8\",\"#598000\",\"#00e4fd\",\"#774b95\",\"#67d48c\",\"#3d3a72\",\"#ac413f\",\"#d6a166\",\"#c169cd\",\"#69595d\",\"#87aced\",\"#a0a569\",\"#d1aae6\",\"#870062\",\"#00fddb\",\"#672818\",\"#b342ff\",\"#0e59c4\",\"#168742\",\"#90d300\",\"#cd7900\",\"#f959ff\",\"#5b7466\",\"#8eaeb3\",\"#9c7c8c\",\"#4600c6\",\"#6b4d2d\",\"#a56d46\",\"#9e8972\",\"#a8afca\",\"#cd8ca7\",\"#00fd64\",\"#917900\",\"#ff62a1\",\"#f4ffd8\",\"#018cf0\",\"#13aca0\",\"#5b2d59\",\"#89859e\",\"#cfccba\",\"#d4afc4\",\"#dbdd6d\",\"#cffff4\",\"#006485\",\"#006962\",\"#a84167\",\"#2d97c4\",\"#a874ff\",\"#26ba5d\",\"#57b600\",\"#caffa7\",\"#a379aa\",\"#ffbc93\",\"#89e2c1\",\"#0fc8ff\",\"#d400c4\",\"#626d89\",\"#69858e\",\"#4b4d52\",\"#aa6067\",\"#79b5d4\",\"#2b5916\",\"#9a0024\",\"#bdd1f2\",\"#896e67\",\"#69a56b\",\"#855467\",\"#aecdba\",\"#87997e\",\"#cadb00\",\"#9a0390\",\"#ebbc1a\",\"#eb9cd1\",\"#70006e\",\"#b1a131\",\"#ca6b93\",\"#4146a3\",\"#e48c89\",\"#d44400\",\"#c68aca\",\"#b69597\",\"#d41f75\",\"#724bcc\",\"#674d00\",\"#672138\",\"#38564f\",\"#6ebaaa\",\"#853a31\",\"#a5d397\",\"#b8af8e\",\"#d8e4df\",\"#aa00df\",\"#cac1db\",\"#ffdf8c\",\"#e2524d\",\"#66696e\",\"#ff001c\",\"#522d72\",\"#4d906b\",\"#a86d11\",\"#ff9e26\",\"#5ea3af\",\"#c88556\",\"#915997\",\"#a3a1ff\",\"#fdbaba\",\"#242a87\",\"#dbe6a8\",\"#97f2a7\",\"#6793d6\",\"#ba5b3f\",\"#3a5d91\",\"#364f2f\",\"#267c95\",\"#89959a\",\"#cfb356\",\"#004664\",\"#5e5d2f\",\"#8e8e41\",\"#ac3f13\",\"#69953b\",\"#a13d85\",\"#bfb6ba\",\"#acc667\",\"#6469cf\",\"#91af00\",\"#2be2da\",\"#016e36\",\"#ff7952\",\"#42807e\",\"#4fe800\",\"#995428\",\"#5d0a00\",\"#a30057\",\"#0c8700\",\"#5982a7\",\"#ffebfb\",\"#4b6901\",\"#8775d4\",\"#e6c6ff\",\"#a5ffda\",\"#d86e77\",\"#df014b\",\"#69675b\",\"#776ba1\",\"#7e8067\",\"#594685\",\"#0000ca\",\"#7c002a\",\"#97ff72\",\"#b5e2e1\",\"#db52c8\",\"#777734\",\"#57bd8e\"],\"factors\":[\"I\",\"II\",\"III\",\"IV\"]}}},\"fill_alpha\":{\"type\":\"value\",\"value\":0}}},\"nonselection_glyph\":{\"type\":\"object\",\"name\":\"HBar\",\"id\":\"p1663\",\"attributes\":{\"y\":{\"type\":\"field\",\"field\":\"cat\"},\"height\":{\"type\":\"value\",\"value\":0.4},\"left\":{\"type\":\"field\",\"field\":\"bottom\"},\"right\":{\"type\":\"field\",\"field\":\"top\"},\"line_color\":{\"type\":\"value\",\"value\":\"gray\"},\"line_alpha\":{\"type\":\"value\",\"value\":0.1},\"fill_color\":{\"type\":\"field\",\"field\":\"cat\",\"transform\":{\"id\":\"p1622\"}},\"fill_alpha\":{\"type\":\"value\",\"value\":0.1},\"hatch_alpha\":{\"type\":\"value\",\"value\":0.1}}},\"muted_glyph\":{\"type\":\"object\",\"name\":\"HBar\",\"id\":\"p1664\",\"attributes\":{\"y\":{\"type\":\"field\",\"field\":\"cat\"},\"height\":{\"type\":\"value\",\"value\":0.4},\"left\":{\"type\":\"field\",\"field\":\"bottom\"},\"right\":{\"type\":\"field\",\"field\":\"top\"},\"line_color\":{\"type\":\"value\",\"value\":\"gray\"},\"line_alpha\":{\"type\":\"value\",\"value\":0.2},\"fill_color\":{\"type\":\"field\",\"field\":\"cat\",\"transform\":{\"id\":\"p1622\"}},\"fill_alpha\":{\"type\":\"value\",\"value\":0.2},\"hatch_alpha\":{\"type\":\"value\",\"value\":0.2}}}}},{\"type\":\"object\",\"name\":\"GlyphRenderer\",\"id\":\"p1674\",\"attributes\":{\"data_source\":{\"id\":\"p1614\"},\"view\":{\"type\":\"object\",\"name\":\"CDSView\",\"id\":\"p1675\",\"attributes\":{\"filter\":{\"type\":\"object\",\"name\":\"AllIndices\",\"id\":\"p1676\"}}},\"glyph\":{\"type\":\"object\",\"name\":\"HBar\",\"id\":\"p1671\",\"attributes\":{\"y\":{\"type\":\"field\",\"field\":\"cat\"},\"height\":{\"type\":\"value\",\"value\":0.4},\"left\":{\"type\":\"field\",\"field\":\"middle\"},\"right\":{\"type\":\"field\",\"field\":\"middle\"},\"line_color\":{\"type\":\"value\",\"value\":\"gray\"},\"fill_color\":{\"type\":\"value\",\"value\":\"#1f77b4\"}}},\"nonselection_glyph\":{\"type\":\"object\",\"name\":\"HBar\",\"id\":\"p1672\",\"attributes\":{\"y\":{\"type\":\"field\",\"field\":\"cat\"},\"height\":{\"type\":\"value\",\"value\":0.4},\"left\":{\"type\":\"field\",\"field\":\"middle\"},\"right\":{\"type\":\"field\",\"field\":\"middle\"},\"line_color\":{\"type\":\"value\",\"value\":\"gray\"},\"line_alpha\":{\"type\":\"value\",\"value\":0.1},\"fill_color\":{\"type\":\"value\",\"value\":\"#1f77b4\"},\"fill_alpha\":{\"type\":\"value\",\"value\":0.1},\"hatch_alpha\":{\"type\":\"value\",\"value\":0.1}}},\"muted_glyph\":{\"type\":\"object\",\"name\":\"HBar\",\"id\":\"p1673\",\"attributes\":{\"y\":{\"type\":\"field\",\"field\":\"cat\"},\"height\":{\"type\":\"value\",\"value\":0.4},\"left\":{\"type\":\"field\",\"field\":\"middle\"},\"right\":{\"type\":\"field\",\"field\":\"middle\"},\"line_color\":{\"type\":\"value\",\"value\":\"gray\"},\"line_alpha\":{\"type\":\"value\",\"value\":0.2},\"fill_color\":{\"type\":\"value\",\"value\":\"#1f77b4\"},\"fill_alpha\":{\"type\":\"value\",\"value\":0.2},\"hatch_alpha\":{\"type\":\"value\",\"value\":0.2}}}}},{\"type\":\"object\",\"name\":\"GlyphRenderer\",\"id\":\"p1690\",\"attributes\":{\"name\":\"hover_glyphs\",\"data_source\":{\"type\":\"object\",\"name\":\"ColumnDataSource\",\"id\":\"p1681\",\"attributes\":{\"selected\":{\"type\":\"object\",\"name\":\"Selection\",\"id\":\"p1682\",\"attributes\":{\"indices\":[],\"line_indices\":[]}},\"selection_policy\":{\"type\":\"object\",\"name\":\"UnionRenderers\",\"id\":\"p1683\"},\"data\":{\"type\":\"map\",\"entries\":[[\"ID\",[\"I\",\"I\",\"I\",\"I\",\"I\",\"I\",\"I\",\"I\",\"I\",\"I\",\"I\",\"I\",\"I\",\"I\",\"I\",\"I\",\"I\",\"I\",\"I\",\"I\",\"II\",\"II\",\"II\",\"II\",\"II\",\"II\",\"II\",\"II\",\"II\",\"II\",\"II\",\"II\",\"II\",\"II\",\"II\",\"II\",\"II\",\"II\",\"II\",\"II\",\"III\",\"III\",\"III\",\"III\",\"III\",\"III\",\"III\",\"III\",\"III\",\"III\",\"III\",\"III\",\"III\",\"III\",\"III\",\"III\",\"III\",\"III\",\"III\",\"III\",\"IV\",\"IV\",\"IV\",\"IV\",\"IV\",\"IV\",\"IV\",\"IV\",\"IV\",\"IV\",\"IV\",\"IV\",\"IV\",\"IV\",\"IV\",\"IV\",\"IV\",\"IV\",\"IV\",\"IV\"]],[\"impact force (mN)\",[1205,2527,1745,1556,493,2276,556,1928,2641,1897,1891,1545,1307,1692,1543,1282,775,2032,1240,473,1612,605,327,946,541,1539,529,628,1453,297,703,269,751,245,1182,515,435,383,457,730,614,414,324,776,611,544,538,579,806,459,458,626,621,544,535,385,401,614,665,488,172,142,37,453,355,22,502,273,720,582,198,198,597,516,815,402,605,711,614,468]],[\"cat\",[\"I\",\"I\",\"I\",\"I\",\"I\",\"I\",\"I\",\"I\",\"I\",\"I\",\"I\",\"I\",\"I\",\"I\",\"I\",\"I\",\"I\",\"I\",\"I\",\"I\",\"II\",\"II\",\"II\",\"II\",\"II\",\"II\",\"II\",\"II\",\"II\",\"II\",\"II\",\"II\",\"II\",\"II\",\"II\",\"II\",\"II\",\"II\",\"II\",\"II\",\"III\",\"III\",\"III\",\"III\",\"III\",\"III\",\"III\",\"III\",\"III\",\"III\",\"III\",\"III\",\"III\",\"III\",\"III\",\"III\",\"III\",\"III\",\"III\",\"III\",\"IV\",\"IV\",\"IV\",\"IV\",\"IV\",\"IV\",\"IV\",\"IV\",\"IV\",\"IV\",\"IV\",\"IV\",\"IV\",\"IV\",\"IV\",\"IV\",\"IV\",\"IV\",\"IV\",\"IV\"]],[\"__label\",[\"I\",\"I\",\"I\",\"I\",\"I\",\"I\",\"I\",\"I\",\"I\",\"I\",\"I\",\"I\",\"I\",\"I\",\"I\",\"I\",\"I\",\"I\",\"I\",\"I\",\"II\",\"II\",\"II\",\"II\",\"II\",\"II\",\"II\",\"II\",\"II\",\"II\",\"II\",\"II\",\"II\",\"II\",\"II\",\"II\",\"II\",\"II\",\"II\",\"II\",\"III\",\"III\",\"III\",\"III\",\"III\",\"III\",\"III\",\"III\",\"III\",\"III\",\"III\",\"III\",\"III\",\"III\",\"III\",\"III\",\"III\",\"III\",\"III\",\"III\",\"IV\",\"IV\",\"IV\",\"IV\",\"IV\",\"IV\",\"IV\",\"IV\",\"IV\",\"IV\",\"IV\",\"IV\",\"IV\",\"IV\",\"IV\",\"IV\",\"IV\",\"IV\",\"IV\",\"IV\"]]]}}},\"view\":{\"type\":\"object\",\"name\":\"CDSView\",\"id\":\"p1691\",\"attributes\":{\"filter\":{\"type\":\"object\",\"name\":\"AllIndices\",\"id\":\"p1692\"}}},\"glyph\":{\"type\":\"object\",\"name\":\"Scatter\",\"id\":\"p1687\",\"attributes\":{\"x\":{\"type\":\"field\",\"field\":\"impact force (mN)\"},\"y\":{\"type\":\"field\",\"field\":\"cat\",\"transform\":{\"type\":\"object\",\"name\":\"Jitter\",\"id\":\"p1680\",\"attributes\":{\"width\":0.1,\"distribution\":\"normal\",\"range\":{\"id\":\"p1579\"}}}},\"line_color\":{\"type\":\"field\",\"field\":\"cat\",\"transform\":{\"type\":\"object\",\"name\":\"CategoricalColorMapper\",\"id\":\"p1679\",\"attributes\":{\"palette\":[\"#1f77b3\",\"#ff7e0e\",\"#2ba02b\",\"#d62628\",\"#9367bc\",\"#8c564b\",\"#e277c1\",\"#7e7e7e\",\"#bcbc21\",\"#16bdcf\",\"#3a0182\",\"#004201\",\"#0fffa8\",\"#5d003f\",\"#bcbcff\",\"#d8afa1\",\"#b80080\",\"#004d52\",\"#6b6400\",\"#7c0100\",\"#6026ff\",\"#ffff9a\",\"#564964\",\"#8cb893\",\"#93fbff\",\"#018267\",\"#90ff00\",\"#8200a0\",\"#ac8944\",\"#5b3400\",\"#ffbff2\",\"#ff6e75\",\"#798cff\",\"#dd00ff\",\"#505646\",\"#004489\",\"#ffbf60\",\"#ff018c\",\"#bdc8cf\",\"#af97b5\",\"#b65600\",\"#017000\",\"#cd87ff\",\"#1cd646\",\"#bfebc3\",\"#7997b5\",\"#a56089\",\"#6e8956\",\"#bc7c75\",\"#8a2844\",\"#00acff\",\"#8ed4ff\",\"#4b6d77\",\"#00d4b1\",\"#9300f2\",\"#8a9500\",\"#5d5b9e\",\"#fddfba\",\"#00939e\",\"#ffdb00\",\"#00aa79\",\"#520067\",\"#000091\",\"#0a5d3d\",\"#a5e275\",\"#623b41\",\"#c6c689\",\"#ff9eb5\",\"#cd4f6b\",\"#ff07d6\",\"#8a3a05\",\"#7e3d70\",\"#ff4901\",\"#602ba5\",\"#1c00ff\",\"#e6dfff\",\"#aa3baf\",\"#d89c00\",\"#a3a39e\",\"#3f69ff\",\"#46490c\",\"#7b6985\",\"#6b978c\",\"#ff9a75\",\"#835bff\",\"#7c6b46\",\"#80b654\",\"#bc0049\",\"#fd93ff\",\"#5d0018\",\"#89d1d1\",\"#9c8cd3\",\"#da6d42\",\"#8a5700\",\"#3b5069\",\"#4b6b3b\",\"#edcfd8\",\"#cfedff\",\"#aa1500\",\"#dfff4f\",\"#ff2a56\",\"#d1499e\",\"#707cb8\",\"#598000\",\"#00e4fd\",\"#774b95\",\"#67d48c\",\"#3d3a72\",\"#ac413f\",\"#d6a166\",\"#c169cd\",\"#69595d\",\"#87aced\",\"#a0a569\",\"#d1aae6\",\"#870062\",\"#00fddb\",\"#672818\",\"#b342ff\",\"#0e59c4\",\"#168742\",\"#90d300\",\"#cd7900\",\"#f959ff\",\"#5b7466\",\"#8eaeb3\",\"#9c7c8c\",\"#4600c6\",\"#6b4d2d\",\"#a56d46\",\"#9e8972\",\"#a8afca\",\"#cd8ca7\",\"#00fd64\",\"#917900\",\"#ff62a1\",\"#f4ffd8\",\"#018cf0\",\"#13aca0\",\"#5b2d59\",\"#89859e\",\"#cfccba\",\"#d4afc4\",\"#dbdd6d\",\"#cffff4\",\"#006485\",\"#006962\",\"#a84167\",\"#2d97c4\",\"#a874ff\",\"#26ba5d\",\"#57b600\",\"#caffa7\",\"#a379aa\",\"#ffbc93\",\"#89e2c1\",\"#0fc8ff\",\"#d400c4\",\"#626d89\",\"#69858e\",\"#4b4d52\",\"#aa6067\",\"#79b5d4\",\"#2b5916\",\"#9a0024\",\"#bdd1f2\",\"#896e67\",\"#69a56b\",\"#855467\",\"#aecdba\",\"#87997e\",\"#cadb00\",\"#9a0390\",\"#ebbc1a\",\"#eb9cd1\",\"#70006e\",\"#b1a131\",\"#ca6b93\",\"#4146a3\",\"#e48c89\",\"#d44400\",\"#c68aca\",\"#b69597\",\"#d41f75\",\"#724bcc\",\"#674d00\",\"#672138\",\"#38564f\",\"#6ebaaa\",\"#853a31\",\"#a5d397\",\"#b8af8e\",\"#d8e4df\",\"#aa00df\",\"#cac1db\",\"#ffdf8c\",\"#e2524d\",\"#66696e\",\"#ff001c\",\"#522d72\",\"#4d906b\",\"#a86d11\",\"#ff9e26\",\"#5ea3af\",\"#c88556\",\"#915997\",\"#a3a1ff\",\"#fdbaba\",\"#242a87\",\"#dbe6a8\",\"#97f2a7\",\"#6793d6\",\"#ba5b3f\",\"#3a5d91\",\"#364f2f\",\"#267c95\",\"#89959a\",\"#cfb356\",\"#004664\",\"#5e5d2f\",\"#8e8e41\",\"#ac3f13\",\"#69953b\",\"#a13d85\",\"#bfb6ba\",\"#acc667\",\"#6469cf\",\"#91af00\",\"#2be2da\",\"#016e36\",\"#ff7952\",\"#42807e\",\"#4fe800\",\"#995428\",\"#5d0a00\",\"#a30057\",\"#0c8700\",\"#5982a7\",\"#ffebfb\",\"#4b6901\",\"#8775d4\",\"#e6c6ff\",\"#a5ffda\",\"#d86e77\",\"#df014b\",\"#69675b\",\"#776ba1\",\"#7e8067\",\"#594685\",\"#0000ca\",\"#7c002a\",\"#97ff72\",\"#b5e2e1\",\"#db52c8\",\"#777734\",\"#57bd8e\"],\"factors\":[\"I\",\"II\",\"III\",\"IV\"]}}},\"fill_color\":{\"type\":\"field\",\"field\":\"cat\",\"transform\":{\"type\":\"object\",\"name\":\"CategoricalColorMapper\",\"id\":\"p1678\",\"attributes\":{\"palette\":[\"#1f77b3\",\"#ff7e0e\",\"#2ba02b\",\"#d62628\",\"#9367bc\",\"#8c564b\",\"#e277c1\",\"#7e7e7e\",\"#bcbc21\",\"#16bdcf\",\"#3a0182\",\"#004201\",\"#0fffa8\",\"#5d003f\",\"#bcbcff\",\"#d8afa1\",\"#b80080\",\"#004d52\",\"#6b6400\",\"#7c0100\",\"#6026ff\",\"#ffff9a\",\"#564964\",\"#8cb893\",\"#93fbff\",\"#018267\",\"#90ff00\",\"#8200a0\",\"#ac8944\",\"#5b3400\",\"#ffbff2\",\"#ff6e75\",\"#798cff\",\"#dd00ff\",\"#505646\",\"#004489\",\"#ffbf60\",\"#ff018c\",\"#bdc8cf\",\"#af97b5\",\"#b65600\",\"#017000\",\"#cd87ff\",\"#1cd646\",\"#bfebc3\",\"#7997b5\",\"#a56089\",\"#6e8956\",\"#bc7c75\",\"#8a2844\",\"#00acff\",\"#8ed4ff\",\"#4b6d77\",\"#00d4b1\",\"#9300f2\",\"#8a9500\",\"#5d5b9e\",\"#fddfba\",\"#00939e\",\"#ffdb00\",\"#00aa79\",\"#520067\",\"#000091\",\"#0a5d3d\",\"#a5e275\",\"#623b41\",\"#c6c689\",\"#ff9eb5\",\"#cd4f6b\",\"#ff07d6\",\"#8a3a05\",\"#7e3d70\",\"#ff4901\",\"#602ba5\",\"#1c00ff\",\"#e6dfff\",\"#aa3baf\",\"#d89c00\",\"#a3a39e\",\"#3f69ff\",\"#46490c\",\"#7b6985\",\"#6b978c\",\"#ff9a75\",\"#835bff\",\"#7c6b46\",\"#80b654\",\"#bc0049\",\"#fd93ff\",\"#5d0018\",\"#89d1d1\",\"#9c8cd3\",\"#da6d42\",\"#8a5700\",\"#3b5069\",\"#4b6b3b\",\"#edcfd8\",\"#cfedff\",\"#aa1500\",\"#dfff4f\",\"#ff2a56\",\"#d1499e\",\"#707cb8\",\"#598000\",\"#00e4fd\",\"#774b95\",\"#67d48c\",\"#3d3a72\",\"#ac413f\",\"#d6a166\",\"#c169cd\",\"#69595d\",\"#87aced\",\"#a0a569\",\"#d1aae6\",\"#870062\",\"#00fddb\",\"#672818\",\"#b342ff\",\"#0e59c4\",\"#168742\",\"#90d300\",\"#cd7900\",\"#f959ff\",\"#5b7466\",\"#8eaeb3\",\"#9c7c8c\",\"#4600c6\",\"#6b4d2d\",\"#a56d46\",\"#9e8972\",\"#a8afca\",\"#cd8ca7\",\"#00fd64\",\"#917900\",\"#ff62a1\",\"#f4ffd8\",\"#018cf0\",\"#13aca0\",\"#5b2d59\",\"#89859e\",\"#cfccba\",\"#d4afc4\",\"#dbdd6d\",\"#cffff4\",\"#006485\",\"#006962\",\"#a84167\",\"#2d97c4\",\"#a874ff\",\"#26ba5d\",\"#57b600\",\"#caffa7\",\"#a379aa\",\"#ffbc93\",\"#89e2c1\",\"#0fc8ff\",\"#d400c4\",\"#626d89\",\"#69858e\",\"#4b4d52\",\"#aa6067\",\"#79b5d4\",\"#2b5916\",\"#9a0024\",\"#bdd1f2\",\"#896e67\",\"#69a56b\",\"#855467\",\"#aecdba\",\"#87997e\",\"#cadb00\",\"#9a0390\",\"#ebbc1a\",\"#eb9cd1\",\"#70006e\",\"#b1a131\",\"#ca6b93\",\"#4146a3\",\"#e48c89\",\"#d44400\",\"#c68aca\",\"#b69597\",\"#d41f75\",\"#724bcc\",\"#674d00\",\"#672138\",\"#38564f\",\"#6ebaaa\",\"#853a31\",\"#a5d397\",\"#b8af8e\",\"#d8e4df\",\"#aa00df\",\"#cac1db\",\"#ffdf8c\",\"#e2524d\",\"#66696e\",\"#ff001c\",\"#522d72\",\"#4d906b\",\"#a86d11\",\"#ff9e26\",\"#5ea3af\",\"#c88556\",\"#915997\",\"#a3a1ff\",\"#fdbaba\",\"#242a87\",\"#dbe6a8\",\"#97f2a7\",\"#6793d6\",\"#ba5b3f\",\"#3a5d91\",\"#364f2f\",\"#267c95\",\"#89959a\",\"#cfb356\",\"#004664\",\"#5e5d2f\",\"#8e8e41\",\"#ac3f13\",\"#69953b\",\"#a13d85\",\"#bfb6ba\",\"#acc667\",\"#6469cf\",\"#91af00\",\"#2be2da\",\"#016e36\",\"#ff7952\",\"#42807e\",\"#4fe800\",\"#995428\",\"#5d0a00\",\"#a30057\",\"#0c8700\",\"#5982a7\",\"#ffebfb\",\"#4b6901\",\"#8775d4\",\"#e6c6ff\",\"#a5ffda\",\"#d86e77\",\"#df014b\",\"#69675b\",\"#776ba1\",\"#7e8067\",\"#594685\",\"#0000ca\",\"#7c002a\",\"#97ff72\",\"#b5e2e1\",\"#db52c8\",\"#777734\",\"#57bd8e\"],\"factors\":[\"I\",\"II\",\"III\",\"IV\"]}}}}},\"nonselection_glyph\":{\"type\":\"object\",\"name\":\"Scatter\",\"id\":\"p1688\",\"attributes\":{\"x\":{\"type\":\"field\",\"field\":\"impact force (mN)\"},\"y\":{\"type\":\"field\",\"field\":\"cat\",\"transform\":{\"id\":\"p1680\"}},\"line_color\":{\"type\":\"field\",\"field\":\"cat\",\"transform\":{\"id\":\"p1679\"}},\"line_alpha\":{\"type\":\"value\",\"value\":0.1},\"fill_color\":{\"type\":\"field\",\"field\":\"cat\",\"transform\":{\"id\":\"p1678\"}},\"fill_alpha\":{\"type\":\"value\",\"value\":0.1},\"hatch_alpha\":{\"type\":\"value\",\"value\":0.1}}},\"muted_glyph\":{\"type\":\"object\",\"name\":\"Scatter\",\"id\":\"p1689\",\"attributes\":{\"x\":{\"type\":\"field\",\"field\":\"impact force (mN)\"},\"y\":{\"type\":\"field\",\"field\":\"cat\",\"transform\":{\"id\":\"p1680\"}},\"line_color\":{\"type\":\"field\",\"field\":\"cat\",\"transform\":{\"id\":\"p1679\"}},\"line_alpha\":{\"type\":\"value\",\"value\":0.2},\"fill_color\":{\"type\":\"field\",\"field\":\"cat\",\"transform\":{\"id\":\"p1678\"}},\"fill_alpha\":{\"type\":\"value\",\"value\":0.2},\"hatch_alpha\":{\"type\":\"value\",\"value\":0.2}}}}}],\"toolbar\":{\"type\":\"object\",\"name\":\"Toolbar\",\"id\":\"p1588\",\"attributes\":{\"tools\":[{\"type\":\"object\",\"name\":\"PanTool\",\"id\":\"p1601\"},{\"type\":\"object\",\"name\":\"WheelZoomTool\",\"id\":\"p1602\",\"attributes\":{\"renderers\":\"auto\"}},{\"type\":\"object\",\"name\":\"BoxZoomTool\",\"id\":\"p1603\",\"attributes\":{\"dimensions\":\"both\",\"overlay\":{\"type\":\"object\",\"name\":\"BoxAnnotation\",\"id\":\"p1604\",\"attributes\":{\"syncable\":false,\"line_color\":\"black\",\"line_alpha\":1.0,\"line_width\":2,\"line_dash\":[4,4],\"fill_color\":\"lightgrey\",\"fill_alpha\":0.5,\"level\":\"overlay\",\"visible\":false,\"left\":{\"type\":\"number\",\"value\":\"nan\"},\"right\":{\"type\":\"number\",\"value\":\"nan\"},\"top\":{\"type\":\"number\",\"value\":\"nan\"},\"bottom\":{\"type\":\"number\",\"value\":\"nan\"},\"left_units\":\"canvas\",\"right_units\":\"canvas\",\"top_units\":\"canvas\",\"bottom_units\":\"canvas\",\"handles\":{\"type\":\"object\",\"name\":\"BoxInteractionHandles\",\"id\":\"p1610\",\"attributes\":{\"all\":{\"type\":\"object\",\"name\":\"AreaVisuals\",\"id\":\"p1609\",\"attributes\":{\"fill_color\":\"white\",\"hover_fill_color\":\"lightgray\"}}}}}}}},{\"type\":\"object\",\"name\":\"SaveTool\",\"id\":\"p1611\"},{\"type\":\"object\",\"name\":\"ResetTool\",\"id\":\"p1612\"},{\"type\":\"object\",\"name\":\"HelpTool\",\"id\":\"p1613\"}]}},\"toolbar_location\":\"above\",\"left\":[{\"type\":\"object\",\"name\":\"CategoricalAxis\",\"id\":\"p1596\",\"attributes\":{\"ticker\":{\"type\":\"object\",\"name\":\"CategoricalTicker\",\"id\":\"p1597\"},\"formatter\":{\"type\":\"object\",\"name\":\"CategoricalTickFormatter\",\"id\":\"p1598\"},\"major_label_policy\":{\"type\":\"object\",\"name\":\"AllLabels\",\"id\":\"p1599\"}}}],\"below\":[{\"type\":\"object\",\"name\":\"LinearAxis\",\"id\":\"p1591\",\"attributes\":{\"ticker\":{\"type\":\"object\",\"name\":\"BasicTicker\",\"id\":\"p1592\",\"attributes\":{\"mantissas\":[1,2,5]}},\"formatter\":{\"type\":\"object\",\"name\":\"BasicTickFormatter\",\"id\":\"p1593\"},\"axis_label\":\"impact force (mN)\",\"major_label_policy\":{\"type\":\"object\",\"name\":\"AllLabels\",\"id\":\"p1594\"}}}],\"center\":[{\"type\":\"object\",\"name\":\"Grid\",\"id\":\"p1595\",\"attributes\":{\"axis\":{\"id\":\"p1591\"}}},{\"type\":\"object\",\"name\":\"Grid\",\"id\":\"p1600\",\"attributes\":{\"dimension\":1,\"axis\":{\"id\":\"p1596\"},\"grid_line_color\":null}}],\"frame_width\":375,\"frame_height\":275}}]}};\n  const render_items = [{\"docid\":\"b05ee088-2cc1-4b6d-8dec-3a50e46eb1e1\",\"roots\":{\"p1580\":\"b8691424-1682-46ca-92ae-7eb39d1e29f4\"},\"root_ids\":[\"p1580\"]}];\n  void root.Bokeh.embed.embed_items_notebook(docs_json, render_items);\n  }\n  if (root.Bokeh !== undefined) {\n    embed_document(root);\n  } else {\n    let attempts = 0;\n    const timer = setInterval(function(root) {\n      if (root.Bokeh !== undefined) {\n        clearInterval(timer);\n        embed_document(root);\n      } else {\n        attempts++;\n        if (attempts > 100) {\n          clearInterval(timer);\n          console.log(\"Bokeh: ERROR: Unable to run BokehJS code because BokehJS library is missing\");\n        }\n      }\n    }, 10, root)\n  }\n})(window);",
      "application/vnd.bokehjs_exec.v0+json": ""
     },
     "metadata": {
      "application/vnd.bokehjs_exec.v0+json": {
       "id": "p1580"
      }
     },
     "output_type": "display_data"
    }
   ],
   "source": [
    "bokeh.io.show(\n",
    "    iqplot.stripbox(\n",
    "        data=df,\n",
    "        q=\"impact force (mN)\",\n",
    "        cats =['ID'],\n",
    "        spread='jitter', # 'jitter', 'swarm'\n",
    "    )\n",
    ")"
   ]
  }
 ],
 "metadata": {
  "kernelspec": {
   "display_name": "Python (wis_stats)",
   "language": "python",
   "name": "wis_stats"
  },
  "language_info": {
   "codemirror_mode": {
    "name": "ipython",
    "version": 3
   },
   "file_extension": ".py",
   "mimetype": "text/x-python",
   "name": "python",
   "nbconvert_exporter": "python",
   "pygments_lexer": "ipython3",
   "version": "3.13.5"
  }
 },
 "nbformat": 4,
 "nbformat_minor": 5
}
