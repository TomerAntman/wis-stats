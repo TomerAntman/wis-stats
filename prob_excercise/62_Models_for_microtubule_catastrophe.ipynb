{
 "cells": [
  {
   "cell_type": "markdown",
   "id": "6ec34ab8",
   "metadata": {},
   "source": [
    "In a previous problem, you worked with a data set of measured times for microtubule catastrophe. In this problem, we will develop a model for microtubule catastrophe. \n",
    "\n",
    "**a)** In the [Gardner, Zanic, et al. paper](http://dx.doi.org/10.1016/j.cell.2011.10.037), the authors assumed that the microtubule catatrophe times are Gamma distributed. Discuss how the story behind the Gamma distribution might work for modeling microtubule catastrophe.\n",
    "\n",
    "**b)** As an alternative model, we assert that two biochemical processes have to happen in succession to trigger catastrophe. That is, the first process happens, and only after the first process happens can the second one happen. We model each of the two process as a Poisson process (as is very often done with (bio)chemical dynamics). The rate of arrivals for the first one is $\\beta_1$ and the rate of arrivals for the second one is $\\beta_2$. Show that the PDF of the distribution matching this story is \n",
    "\n",
    "\\begin{align}\n",
    "f(t;\\beta_1, \\beta_2) = \\frac{\\beta_1 \\beta_2}{\\beta_2 - \\beta_1}\\left(\\mathrm{e}^{-\\beta_1 t} - \\mathrm{e}^{-\\beta_2 t}\\right)\n",
    "\\end{align}\n",
    "\n",
    "for $\\beta_1 \\ne \\beta_2$. Consequently, the CDF for this distribution is\n",
    "\n",
    "\\begin{align}\n",
    "F(t; \\beta_1, \\beta_2) = \n",
    "\\frac{\\beta_1 \\beta_2}{\\beta_2-\\beta_1}\\left[\n",
    "\\frac{1}{\\beta_1}\\left(1-\\mathrm{e}^{- \\beta_1 t}\\right)- \\frac{1}{\\beta_2}\\left(1-\\mathrm{e}^{-\\beta_2 t}\\right)\n",
    "\\right].\n",
    "\\end{align}\n",
    "\n",
    "\n",
    "**c)** Without formally doing any integrals, computing any derivatives, or taking limits, show that the PDF of the distribution for $\\beta_1 = \\beta_2 \\equiv \\beta$ is\n",
    "\n",
    "\\begin{align}\n",
    "f(t;\\beta) = \\beta^2\\,t\\,\\mathrm{e}^{-\\beta t}.\n",
    "\\end{align}\n"
   ]
  },
  {
   "cell_type": "markdown",
   "id": "34494892",
   "metadata": {},
   "source": [
    "# Solutions\n",
    "## A\n",
    "Gamma story:\n",
    "> The amount of time we have to wait for $\\alpha$ arrivals of a Poisson process is Gamma distributed. More concretely, if we have events, $X_1,X_2,...,X_{\\alpha}$ that are Exponentially distributed, $X_1+X_2+...+X_{\\alpha}$ is Gamma distributed.\n",
    "\n",
    "Let's switch the nouns:<br>\n",
    "If we assume that several Poisson processes need to arrive in order for a spike to fire, we can call these events $X_i$ and therefor the sum of them is Gamma distributed. Since a lot of biochemical processes in the cell involving diffusion and collisions (like repressor-operator binding) are Poisson processes, this is reasonable to assume that the processes leading up to a \"catastrophe\" are also Poisson processes. The only issue here is the assumption of equal $\\beta$ between the different processes. We can't really assume that here.\n",
    "\n",
    "\n",
    "## B - hypo exponential distribution\n",
    "The amount of time we have to wait for the successive arrival of two independendant Poisson processes arival.\n",
    "The 1st time ($t_1$) is from 0 to arival of 1st event and the 2nd time ($t_2$) is from first event to second event - hence $t=t_2+t_1$.\n",
    "$$\n",
    "f(t_1 | \\beta_1) = \\beta_1 e^{-\\beta_1 t_1} \\\\\n",
    "f(t_2 | \\beta_2) = \\beta_2 e^{-\\beta_2 t_2} \\\\\n",
    "f(t_1,t_2 | \\beta_1,\\beta_2) = \\beta_1\\beta_2 e^{-\\beta_1 t_1} e^{-\\beta_2 t_2} \\\\\n",
    "t=t_1+t_2 \\\\\n",
    ". \\\\\n",
    "f(t_1,t | \\beta_1,\\beta_2) = \\beta_1\\beta_2 e^{-\\beta_1 t_1} e^{-\\beta_2 (t-t_1)} \\\\\n",
    "f(t|\\beta_1,\\beta_2) = \\int_{0}^{t}dt_1 f(t_1,t | \\beta_1,\\beta_2)\\\\\n",
    "f(t|\\beta_1,\\beta_2) = \\beta_1\\beta_2 e^{-\\beta_2 t} \\int_{0}^{t}dt_1 e^{-(\\beta_1-\\beta_2) t_1} = \\\\\n",
    "= \\beta_1\\beta_2 e^{-\\beta_2 t} \\left[-\\frac{1}{\\beta_1-\\beta_2} e^{-(\\beta_1-\\beta_2) t_1}\\right]_{0}^{t} = \\\\\n",
    "= \\beta_1\\beta_2 e^{-\\beta_2 t} \\left[\\frac{1}{\\beta_1-\\beta_2} (1 - e^{-(\\beta_1-\\beta_2) t})\\right] = \\\\\n",
    "= \\frac{\\beta_1\\beta_2}{\\beta_2-\\beta_1} (e^{-\\beta_1 t} - e^{-\\beta_2 t}) \n",
    "$$\n",
    "for $\\beta_1 \\ne \\beta_2$. Consequently, the CDF for this distribution:\n",
    "$$\n",
    "F(t; \\beta_1, \\beta_2) = \\int_{0}^{t} f(t';\\beta_1,\\beta_2) dt' = \n",
    "\\frac{\\beta_1 \\beta_2}{\\beta_2-\\beta_1}\\left[ \\frac{1}{\\beta_1}\\left(1-e^{-\\beta_1 t}\\right)- \\frac{1}{\\beta_2}\\left(1-e^{-\\beta_2 t}\\right) \\right].\n",
    "$$\n",
    "\n",
    "# C - test case for $\\beta_1 = \\beta_2$"
   ]
  },
  {
   "cell_type": "markdown",
   "id": "93fd3d3d",
   "metadata": {},
   "source": []
  }
 ],
 "metadata": {
  "language_info": {
   "name": "python"
  }
 },
 "nbformat": 4,
 "nbformat_minor": 5
}
