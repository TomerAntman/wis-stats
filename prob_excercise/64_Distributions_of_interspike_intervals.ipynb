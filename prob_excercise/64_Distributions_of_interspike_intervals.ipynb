{
 "cells": [
  {
   "cell_type": "markdown",
   "id": "f18a7fe3",
   "metadata": {},
   "source": [
    "There are several models for interspike intervals, and we will explore many of them. For the following descriptions of interspike intervals, what distribution would we use to model them?\n",
    "\n",
    "a) When a previous spike arrived has no bearing on when the next one arrives.\n",
    "\n",
    "b) Several Poisson processes need to arrive in order for a spike to fire.\n",
    "\n",
    "c) A spike fires as a result of a drifting, diffusing signal reaching a threshold."
   ]
  },
  {
   "cell_type": "markdown",
   "id": "504d4252",
   "metadata": {},
   "source": [
    "# Solution:\n",
    "\n",
    "## A:\n",
    "Since a previous spike arrival has no bearing on the next one, it's a poisson process and therefor the intervals are **Exponentially distributed**\n",
    "\n",
    "## B:\n",
    "The amount of time we have to wait for $\\alpha$ arrivals of a Poisson process is **Gamma distributed**\n",
    "\n",
    "## C\n",
    "If we assume that the signal behaves like a Brownian particle than this is an **Inverse Gaussian distribution**. Because the amount of time it takes for a Brownian particle with drift to diffuse to a boundary a given distance away is Inverse Gaussian distributed."
   ]
  },
  {
   "cell_type": "markdown",
   "id": "f8f946c3",
   "metadata": {},
   "source": []
  }
 ],
 "metadata": {
  "language_info": {
   "name": "python"
  }
 },
 "nbformat": 4,
 "nbformat_minor": 5
}
