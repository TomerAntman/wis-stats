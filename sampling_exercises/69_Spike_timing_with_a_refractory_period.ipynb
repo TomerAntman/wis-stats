{
 "cells": [
  {
   "cell_type": "markdown",
   "id": "ee6e909e",
   "metadata": {},
   "source": [
    "# 69  Spike timing with a refractory period\n",
    "After a neuron spikes, there is a refractory period, typically a few milliseconds, for the membrane potential to return to its rest state. A neuron cannot fire during a refractory period. Draw samples of interspike intervals for neuronal firing modeled as a Poisson process with a refractory period. Think carefully about what distribution you want use to model the refractory period."
   ]
  },
  {
   "cell_type": "code",
   "execution_count": null,
   "id": "33f84af7",
   "metadata": {},
   "outputs": [],
   "source": [
    "import numpy as np\n",
    "import iqplot\n",
    "import bokeh.io\n",
    "import scipy.stats as st\n",
    "import bokeh.plotting\n",
    "\n",
    "bokeh.io.output_notebook()\n",
    "\n",
    "rng = np.random.default_rng()"
   ]
  },
  {
   "cell_type": "code",
   "execution_count": null,
   "id": "d4706d77",
   "metadata": {},
   "outputs": [],
   "source": [
    "# The inter-spike intervals are exponentially distributed (time between Poisson events)\n",
    "# If I assume that the refractory period is fixed and around 3 milliseconds, then beta is the rate hence 1/3\n",
    "beta_ = 1/3\n",
    "n_exponent_x = rng.exponential(1/beta_, 100_000)\n",
    "p = iqplot.histogram(\n",
    "    n_exponent_x, bins=100, rug=True, style='step', density=True, \n",
    "    legend_label='Exp. Samples', x_axis_label='Inter-spike interval (ms)', y_axis_label='Density'\n",
    "    )\n",
    "\n",
    "# add pdf\n",
    "x = np.linspace(0, round(max(n_exponent_x)), 200)\n",
    "pdf = st.expon.pdf(x, scale=1/beta_)\n",
    "p.line(x, pdf, line_color='orange', line_width=2, alpha=0.7, legend_label='Exp. PDF')\n",
    "# plot\n",
    "bokeh.io.show(p)\n"
   ]
  }
 ],
 "metadata": {
  "kernelspec": {
   "display_name": "Python (wis_stats)",
   "language": "python",
   "name": "wis_stats"
  },
  "language_info": {
   "codemirror_mode": {
    "name": "ipython",
    "version": 3
   },
   "file_extension": ".py",
   "mimetype": "text/x-python",
   "name": "python",
   "nbconvert_exporter": "python",
   "pygments_lexer": "ipython3",
   "version": "3.13.5"
  }
 },
 "nbformat": 4,
 "nbformat_minor": 5
}
